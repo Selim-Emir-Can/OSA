{
 "cells": [
  {
   "cell_type": "code",
   "execution_count": 1,
   "metadata": {},
   "outputs": [],
   "source": [
    "#reload the modules before running the program\n",
    "%load_ext autoreload\n",
    "%autoreload 2\n",
    "\n",
    "import numpy as np\n",
    "import scipy\n",
    "from scipy import signal\n",
    "from scipy.fft import fftshift\n",
    "from scipy.fft import fft, fftfreq\n",
    "\n",
    "import matplotlib.pyplot as plt\n",
    "import matplotlib as mpl\n",
    "\n",
    "from tqdm import tqdm\n",
    "import torch\n",
    "import torch.nn as nn\n",
    "import torch.nn.functional as F\n",
    "from torch.utils.data import DataLoader\n",
    "\n",
    "import os\n",
    "import math\n",
    "import cv2"
   ]
  },
  {
   "cell_type": "code",
   "execution_count": 2,
   "metadata": {},
   "outputs": [],
   "source": [
    "from datasets import RFData, CameraData, SignalDataset, FuseDatasets\n",
    "import metrics\n",
    "import utils"
   ]
  },
  {
   "cell_type": "code",
   "execution_count": 3,
   "metadata": {},
   "outputs": [],
   "source": [
    "np.random.seed(0)\n",
    "torch.manual_seed(0)\n",
    "data_path = r\"D:\\osa_new_proc_rev\"\n",
    "# trial_folders = [\"v_12_5\", \"v_13_5\", \"v_13_10\"]\n",
    "trial_folders = os.listdir(data_path)\n",
    "\n",
    "# train_idxs = np.linspace(0, 49, 50, dtype=int)\n",
    "train_folders = trial_folders#[trial_folders[i] for i in train_idxs]\n",
    "# test_folders = [trial_folders[i] for i in range(len(trial_folders)) if i not in train_idxs]\n",
    "\n",
    "\n",
    "thermal_file_name = \"Thermal_Camera\"\n",
    "num_samps_oversample = 20 # per experiment, number of samples to generate\n",
    "data_length = 9000\n",
    "fs = 25\n",
    "out_len = 1800 # sample length generated\n",
    "thermal_ext = \".npy\"\n",
    "\n",
    "dataset_thermal_train = CameraData(data_path, train_folders, thermal_file_name, num_samps_oversample, fs, data_length, out_len, thermal_ext)\n",
    "# dataset_thermal_test = CameraData(data_path, test_folders, thermal_file_name, num_samps_oversample, fs, data_length, out_len, thermal_ext)"
   ]
  },
  {
   "cell_type": "code",
   "execution_count": 4,
   "metadata": {},
   "outputs": [
    {
     "name": "stderr",
     "output_type": "stream",
     "text": [
      "100%|██████████| 245/245 [03:27<00:00,  1.18it/s]\n"
     ]
    }
   ],
   "source": [
    "samp_f=5e6\n",
    "freq_slope=60.012e12\n",
    "samples_per_chirp=256\n",
    "num_tx = 3\n",
    "num_rx = 4\n",
    "radar_file_name = \"FMCW_Radar.npy\"\n",
    "window_size = 25 # number of range bins to use\n",
    "\n",
    "dataset_radar_train = RFData(data_path, train_folders, data_length, radar_file_name, out_len, window_size, samples_per_chirp, samp_f, freq_slope, num_samps_oversample, num_tx, num_rx, fs)\n",
    "# dataset_radar_test = RFData(data_path, test_folders, data_length, radar_file_name, out_len, window_size, samples_per_chirp, samp_f, freq_slope, num_samps_oversample, num_tx, num_rx, fs)"
   ]
  },
  {
   "cell_type": "code",
   "execution_count": 5,
   "metadata": {},
   "outputs": [],
   "source": [
    "np.random.seed(0)\n",
    "torch.manual_seed(0)\n",
    "vital_dict_file_name = \"gt_dict.pkl\"\n",
    "vital_key_radar = \"CHEST\"\n",
    "vital_key_thermal = \"AIR_flow\"\n",
    "l_freq_bpm = 5\n",
    "u_freq_bpm = 30\n",
    "dataset_OSA_train = SignalDataset(data_path, train_folders, vital_dict_file_name, 'OSA', data_length, out_len, False, fs, 1024, False, l_freq_bpm, u_freq_bpm, num_samps_oversample, False,\n",
    "                              normalize=False)\n",
    "dataset_CSA_train = SignalDataset(data_path, train_folders, vital_dict_file_name, 'CSA', data_length, out_len, False, fs, 1024, False, l_freq_bpm, u_freq_bpm, num_samps_oversample, False,\n",
    "                              normalize=False)\n",
    "dataset_MSA_train = SignalDataset(data_path, train_folders, vital_dict_file_name, 'MSA', data_length, out_len, False, fs, 1024, False, l_freq_bpm, u_freq_bpm, num_samps_oversample, False,\n",
    "                              normalize=False)\n",
    "dataset_hypopnea_train = SignalDataset(data_path, train_folders, vital_dict_file_name, 'Hypopnea', data_length, out_len, False, fs, 1024, False, l_freq_bpm, u_freq_bpm, num_samps_oversample, False,\n",
    "                              normalize=False)\n",
    "dataset_partial_apnea_train = SignalDataset(data_path, train_folders, vital_dict_file_name, 'Partial_Apnea', data_length, out_len, False, fs, 1024, False, l_freq_bpm, u_freq_bpm, num_samps_oversample, False,\n",
    "                              normalize=False)\n",
    "dataset_gt_thermal_train = SignalDataset(data_path, train_folders, vital_dict_file_name, vital_key_thermal, data_length, out_len, False, fs, 1024, False, l_freq_bpm, u_freq_bpm, num_samps_oversample, False)\n",
    "dataset_gt_radar_train = SignalDataset(data_path, train_folders, vital_dict_file_name, vital_key_radar, data_length, out_len, True, fs, 1024, False, l_freq_bpm, u_freq_bpm, num_samps_oversample, False)\n",
    "\n",
    "# dataset_apnea_test = SignalDataset(data_path, test_folders, vital_dict_file_name, 'Sleep_Apnea', data_length, out_len, False, fs, 1024, False, l_freq_bpm, u_freq_bpm, num_samps_oversample, False,\n",
    "#                               normalize=False)\n",
    "# dataset_gt_thermal_test = SignalDataset(data_path, test_folders, vital_dict_file_name, vital_key_thermal, data_length, out_len, False, fs, 1024, False, l_freq_bpm, u_freq_bpm, num_samps_oversample, False)\n",
    "# dataset_gt_radar_test = SignalDataset(data_path, test_folders, vital_dict_file_name, vital_key_radar, data_length, out_len, True, fs, 1024, False, l_freq_bpm, u_freq_bpm, num_samps_oversample, False)"
   ]
  },
  {
   "cell_type": "code",
   "execution_count": 6,
   "metadata": {},
   "outputs": [],
   "source": [
    "np.random.seed(0)\n",
    "torch.manual_seed(0)\n",
    "fused_dataset_train = FuseDatasets([dataset_radar_train, dataset_thermal_train, dataset_gt_radar_train, dataset_gt_thermal_train, dataset_OSA_train, dataset_CSA_train, dataset_hypopnea_train, dataset_partial_apnea_train], [\"radar\", \"thermal\", \"gt_radar\", \"gt_ir\", \"gt_OSA\", \"gt_CSA\", \"hypopnea\", \"partial_apnea\"], out_len=out_len)\n",
    "# fused_dataset_test = FuseDatasets([dataset_radar_test, dataset_thermal_test, dataset_gt_radar_test, dataset_gt_thermal_test, dataset_apnea_test], [\"radar\", \"thermal\", \"gt_radar\", \"gt_ir\", \"gt_apnea\"], out_len=out_len)\n",
    "t_arr = np.linspace(0, out_len/fs, out_len)"
   ]
  },
  {
   "cell_type": "code",
   "execution_count": 3,
   "metadata": {},
   "outputs": [],
   "source": [
    "fs = 30\n",
    "out_len = 1800\n",
    "t_arr = np.linspace(0, out_len/fs, out_len)"
   ]
  },
  {
   "cell_type": "code",
   "execution_count": 4,
   "metadata": {},
   "outputs": [],
   "source": [
    "# NUKS_idx = np.load(r\"E:\\OSA_project\\Emir_Clean\\saved_idx\\NUKS_idx.npy\")\n",
    "# mode_lock_idx = np.load(r\"E:\\OSA_project\\Emir_Clean\\saved_idx\\mode_lock_idx.npy\")\n",
    "# movement_idx = np.load(r\"E:\\OSA_project\\Emir_Clean\\saved_idx\\movement_idx.npy\")\n",
    "X = np.load(r\"E:\\OSA_project\\Emir_Clean\\saved_data\\thermal_arr.npy\")\n",
    "y = np.load(r\"E:\\OSA_project\\Emir_Clean\\saved_data\\gt_arr.npy\")\n"
   ]
  },
  {
   "cell_type": "code",
   "execution_count": 15,
   "metadata": {},
   "outputs": [
    {
     "name": "stderr",
     "output_type": "stream",
     "text": [
      "100%|██████████| 3436/3436 [00:00<00:00, 27561.28it/s]\n"
     ]
    }
   ],
   "source": [
    "label_y = np.zeros(len(y))\n",
    "\n",
    "for i in tqdm(range(len(label_y))):\n",
    "    if((np.mean(y[i][1]) > 0.1) or (np.mean(y[i][2] > 0.1))):\n",
    "        label_y[i] = 1"
   ]
  },
  {
   "cell_type": "code",
   "execution_count": 16,
   "metadata": {},
   "outputs": [],
   "source": [
    "def hyperparam_tuning(th_arr, window_dmax_arr, window_dmin_arr, modes, X, y):\n",
    "    full_arr = []\n",
    "    prod_arr = []\n",
    "    for th in tqdm(th_arr):\n",
    "        for window_max in tqdm(window_dmax_arr):\n",
    "            for window_min in window_dmin_arr:\n",
    "                for mode in modes:\n",
    "                    gt_arr = []\n",
    "                    pred_arr = []\n",
    "                \n",
    "                    for idx in range(len(X)):\n",
    "                            pred = utils.predict(X[idx], dmin=window_min, dmax=window_max, th=th, mode=mode, plot=False)\n",
    "\n",
    "                            gt_OSA = y[idx][1]\n",
    "                            gt_CSA = y[idx][2]\n",
    "                            # gt_hp = gt_hypopnea[idx]\n",
    "\n",
    "                            if((np.mean(gt_OSA) > 0.1) or (np.mean(gt_CSA) > 0.1)):# or (np.mean(gt_hp) > 0.1)):\n",
    "                                gt_arr.append(1)\n",
    "                            else:\n",
    "                                gt_arr.append(0)\n",
    "                            \n",
    "                            if(np.mean(pred) > 0.1):\n",
    "                                pred_arr.append(1)\n",
    "                            else:\n",
    "                                pred_arr.append(0)\n",
    "\n",
    "                    precision, recall, accuracy, confusion_matrix = utils.get_stats(np.array(pred_arr), np.array(gt_arr))                    \n",
    "                    prod_arr.append(precision*recall / (precision + recall))\n",
    "                    full_arr.append((th, mode, window_min, window_max, recall, precision, accuracy, confusion_matrix))\n",
    "    if(len(prod_arr) > 1):\n",
    "        for i in range(len(prod_arr)):\n",
    "            if(math.isnan(prod_arr[i])):\n",
    "                prod_arr[i] = 0\n",
    "        \n",
    "        best_idxs = np.argsort(prod_arr)[::-1]\n",
    "        return((prod_arr[best_idxs[0]], full_arr[best_idxs[0]]))\n",
    "    else:\n",
    "        return(prod_arr[0], full_arr[0])\n",
    "    "
   ]
  },
  {
   "cell_type": "code",
   "execution_count": null,
   "metadata": {
    "vscode": {
     "languageId": "julia"
    }
   },
   "outputs": [],
   "source": [
    "from sklearn.model_selection import KFold\n",
    "from sklearn.model_selection import StratifiedKFold\n",
    "# Assuming you have your features in X and labels in y\n",
    "\n",
    "# Create an instance of StratifiedKFold with the desired number of folds\n",
    "k = 5\n",
    "skf = StratifiedKFold(n_splits=k, shuffle=True, random_state=42)\n",
    "training_scores = []\n",
    "training_params = []\n",
    "test_scores = []\n",
    "# Perform stratified k-fold cross validation\n",
    "for train_index, test_index in skf.split(X, label_y):\n",
    "    X_train, X_test = X[train_index], X[test_index]\n",
    "    y_train, y_test = y[train_index], y[test_index]\n",
    "    \n",
    "    # Train and evaluate your model on the current fold\n",
    "    # Replace this with your own model training and evaluation code\n",
    "    f1_score, params = hyperparam_tuning(th_arr=np.linspace(0.1,0.4, 20), window_dmax_arr=np.linspace(15,40, 20), window_dmin_arr=np.linspace(15,40, 20), modes='90th', X=X_train, y=y_train)\n",
    "    training_scores.append(f1_score)\n",
    "    training_params.append(params)\n",
    "    f1_score_test, _ = hyperparam_tuning(th_arr=[params[0]], window_dmin_arr=[params[1]], window_dmax_arr=[params[2]], modes='90th', X=X_test, y=y_test)\n",
    "    \n",
    "    # Print the accuracy for the current fold\n",
    "    print(\"f1_score_test:\", f1_score_test, '\\n')\n",
    "    print(\"th: \", params[0], \"mode: \", mode, \"dmin: \", window_min, \"dmax: \", window_max, '\\n')\n",
    "    print(\"recall: \", recall, \"precision: \", precision, \"accuracy: \", accuracy, \"confusion_matrix: \", confusion_matrix))"
   ]
  },
  {
   "cell_type": "code",
   "execution_count": 17,
   "metadata": {},
   "outputs": [],
   "source": [
    "from sklearn.model_selection import KFold\n",
    "from sklearn.model_selection import StratifiedKFold"
   ]
  },
  {
   "cell_type": "code",
   "execution_count": 26,
   "metadata": {},
   "outputs": [
    {
     "data": {
      "text/plain": [
       "array([30, 17, 38, 23, 22, 16, 37, 39, 27, 19])"
      ]
     },
     "execution_count": 26,
     "metadata": {},
     "output_type": "execute_result"
    }
   ],
   "source": [
    "np.random.randint(15,40, 10)"
   ]
  },
  {
   "cell_type": "code",
   "execution_count": 32,
   "metadata": {},
   "outputs": [
    {
     "name": "stderr",
     "output_type": "stream",
     "text": [
      "  0%|          | 0/10 [00:00<?, ?it/s]C:\\Users\\111\\AppData\\Local\\Temp/ipykernel_23920/195897019.py:29: RuntimeWarning: invalid value encountered in double_scalars\n",
      "  prod_arr.append(precision*recall / (precision + recall))\n",
      "e:\\OSA_project\\Emir_Clean\\utils.py:42: RuntimeWarning: invalid value encountered in long_scalars\n",
      "  accuracy = (tp + tn)/ (tp + tn + fp + fn)\n",
      "100%|██████████| 10/10 [04:28<00:00, 26.86s/it]\n",
      "100%|██████████| 10/10 [04:26<00:00, 26.61s/it]\n",
      "100%|██████████| 10/10 [04:26<00:00, 26.65s/it]\n",
      "100%|██████████| 10/10 [04:23<00:00, 26.40s/it]\n",
      "100%|██████████| 10/10 [04:22<00:00, 26.28s/it]\n",
      "100%|██████████| 10/10 [04:23<00:00, 26.30s/it]\n",
      "100%|██████████| 10/10 [04:22<00:00, 26.26s/it]\n",
      "100%|██████████| 10/10 [04:22<00:00, 26.26s/it]\n",
      "100%|██████████| 10/10 [04:22<00:00, 26.21s/it]\n",
      "100%|██████████| 10/10 [04:25<00:00, 26.55s/it]\n",
      "100%|██████████| 10/10 [44:03<00:00, 264.38s/it]\n",
      "100%|██████████| 1/1 [00:00<00:00,  1.45it/s]\n",
      "100%|██████████| 1/1 [00:00<00:00,  1.44it/s]\n"
     ]
    },
    {
     "name": "stdout",
     "output_type": "stream",
     "text": [
      "f1_score_test: nan \n",
      "\n",
      "th:  0.2666666666666667 mode:  90th dmin:  17 dmax:  20 \n",
      "\n",
      "recall:  0.12727272727272726 precision:  0.6363636363636364 accuracy:  0.9810771470160117 confusion_matrix:  [[   7   48]\n",
      " [   4 2689]]\n"
     ]
    },
    {
     "name": "stderr",
     "output_type": "stream",
     "text": [
      "100%|██████████| 10/10 [04:24<00:00, 26.40s/it]\n",
      "100%|██████████| 10/10 [04:23<00:00, 26.30s/it]\n",
      "100%|██████████| 10/10 [04:23<00:00, 26.30s/it]\n",
      "100%|██████████| 10/10 [04:25<00:00, 26.52s/it]\n",
      "100%|██████████| 10/10 [04:23<00:00, 26.34s/it]\n",
      "100%|██████████| 10/10 [04:23<00:00, 26.30s/it]\n",
      "100%|██████████| 10/10 [04:23<00:00, 26.33s/it]\n",
      "100%|██████████| 10/10 [04:23<00:00, 26.32s/it]\n",
      "100%|██████████| 10/10 [04:22<00:00, 26.27s/it]\n",
      "100%|██████████| 10/10 [04:23<00:00, 26.31s/it]\n",
      "100%|██████████| 10/10 [43:54<00:00, 263.40s/it]\n",
      "100%|██████████| 1/1 [00:00<00:00,  1.44it/s]\n",
      "100%|██████████| 1/1 [00:00<00:00,  1.43it/s]\n"
     ]
    },
    {
     "name": "stdout",
     "output_type": "stream",
     "text": [
      "f1_score_test: 0.05 \n",
      "\n",
      "th:  0.30000000000000004 mode:  90th dmin:  15 dmax:  17 \n",
      "\n",
      "recall:  0.12727272727272726 precision:  0.3333333333333333 accuracy:  0.9774463441251364 confusion_matrix:  [[   7   48]\n",
      " [  14 2680]]\n"
     ]
    },
    {
     "name": "stderr",
     "output_type": "stream",
     "text": [
      "100%|██████████| 10/10 [04:23<00:00, 26.32s/it]\n",
      "100%|██████████| 10/10 [04:21<00:00, 26.17s/it]\n",
      "100%|██████████| 10/10 [04:21<00:00, 26.12s/it]\n",
      "100%|██████████| 10/10 [04:21<00:00, 26.13s/it]\n",
      "100%|██████████| 10/10 [04:21<00:00, 26.14s/it]\n",
      "100%|██████████| 10/10 [04:21<00:00, 26.15s/it]\n",
      "100%|██████████| 10/10 [04:23<00:00, 26.35s/it]\n",
      "100%|██████████| 10/10 [04:21<00:00, 26.14s/it]\n",
      "100%|██████████| 10/10 [04:21<00:00, 26.17s/it]\n",
      "100%|██████████| 10/10 [04:21<00:00, 26.17s/it]\n",
      "100%|██████████| 10/10 [43:38<00:00, 261.87s/it]\n",
      "100%|██████████| 1/1 [00:00<00:00,  1.43it/s]\n",
      "100%|██████████| 1/1 [00:00<00:00,  1.42it/s]\n"
     ]
    },
    {
     "name": "stdout",
     "output_type": "stream",
     "text": [
      "f1_score_test: 0.0967741935483871 \n",
      "\n",
      "th:  0.4 mode:  90th dmin:  15 dmax:  17 \n",
      "\n",
      "recall:  0.18518518518518517 precision:  0.16393442622950818 accuracy:  0.9654419789014187 confusion_matrix:  [[  10   44]\n",
      " [  51 2644]]\n"
     ]
    },
    {
     "name": "stderr",
     "output_type": "stream",
     "text": [
      "100%|██████████| 10/10 [04:22<00:00, 26.24s/it]\n",
      "100%|██████████| 10/10 [04:22<00:00, 26.26s/it]\n",
      "100%|██████████| 10/10 [04:22<00:00, 26.25s/it]\n",
      "100%|██████████| 10/10 [04:22<00:00, 26.26s/it]\n",
      "100%|██████████| 10/10 [04:22<00:00, 26.25s/it]\n",
      "100%|██████████| 10/10 [04:22<00:00, 26.23s/it]\n",
      "100%|██████████| 10/10 [04:22<00:00, 26.24s/it]\n",
      "100%|██████████| 10/10 [04:15<00:00, 25.56s/it]\n",
      "100%|██████████| 10/10 [04:15<00:00, 25.57s/it]\n",
      "100%|██████████| 10/10 [04:15<00:00, 25.51s/it]\n",
      "100%|██████████| 10/10 [43:23<00:00, 260.38s/it]\n",
      "100%|██████████| 1/1 [00:00<00:00,  1.51it/s]\n",
      "100%|██████████| 1/1 [00:00<00:00,  1.51it/s]\n"
     ]
    },
    {
     "name": "stdout",
     "output_type": "stream",
     "text": [
      "f1_score_test: nan \n",
      "\n",
      "th:  0.2666666666666667 mode:  90th dmin:  17 dmax:  20 \n",
      "\n",
      "recall:  0.12727272727272726 precision:  0.7 accuracy:  0.981447799199709 confusion_matrix:  [[   7   48]\n",
      " [   3 2691]]\n"
     ]
    },
    {
     "name": "stderr",
     "output_type": "stream",
     "text": [
      "100%|██████████| 10/10 [04:15<00:00, 25.58s/it]\n",
      "100%|██████████| 10/10 [04:15<00:00, 25.53s/it]\n",
      "100%|██████████| 10/10 [04:15<00:00, 25.53s/it]\n",
      "100%|██████████| 10/10 [04:15<00:00, 25.51s/it]\n",
      "100%|██████████| 10/10 [04:15<00:00, 25.53s/it]\n",
      "100%|██████████| 10/10 [04:15<00:00, 25.55s/it]\n",
      "100%|██████████| 10/10 [04:13<00:00, 25.39s/it]\n",
      "100%|██████████| 10/10 [04:17<00:00, 25.74s/it]\n",
      "100%|██████████| 10/10 [04:22<00:00, 26.24s/it]\n",
      " 90%|█████████ | 9/10 [38:25<04:17, 257.77s/it]"
     ]
    }
   ],
   "source": [
    "# Create an instance of StratifiedKFold with the desired number of folds\n",
    "k = 5\n",
    "skf = StratifiedKFold(n_splits=k, shuffle=True, random_state=42)\n",
    "training_scores = []\n",
    "training_params = []\n",
    "test_scores = []\n",
    "# Perform stratified k-fold cross validation\n",
    "for train_index, test_index in skf.split(X, label_y):\n",
    "    X_train, X_test = X[train_index], X[test_index]\n",
    "    y_train, y_test = y[train_index], y[test_index]\n",
    "\n",
    "    # Train and evaluate your model on the current fold\n",
    "    # Replace this with your own model training and evaluation code\n",
    "    f1_score, params = hyperparam_tuning(th_arr=np.linspace(0.1,0.4,10), window_dmax_arr=np.linspace(15,40, 10, dtype=int), window_dmin_arr=np.linspace(15,40, 10, dtype=int),  modes=['90th'], X=X_train, y=y_train)\n",
    "    training_scores.append(f1_score)\n",
    "    training_params.append(params)\n",
    "    f1_score_test, _ = hyperparam_tuning(th_arr=[params[0]], window_dmin_arr=[params[2]], window_dmax_arr=[params[3]], modes=['90th'], X=X_test, y=y_test)\n",
    "\n",
    "    # Print the accuracy for the current fold\n",
    "    print(\"f1_score_test:\", f1_score_test, '\\n')\n",
    "    print(\"th: \", params[0], \"mode: \", params[1], \"dmin: \", params[2], \"dmax: \", params[3], '\\n')\n",
    "    print(\"recall: \", params[4], \"precision: \", params[5], \"accuracy: \", params[6], \"confusion_matrix: \", params[7])"
   ]
  },
  {
   "cell_type": "code",
   "execution_count": 31,
   "metadata": {},
   "outputs": [
    {
     "data": {
      "text/plain": [
       "[<matplotlib.lines.Line2D at 0x210b00162e0>]"
      ]
     },
     "execution_count": 31,
     "metadata": {},
     "output_type": "execute_result"
    },
    {
     "data": {
      "image/png": "[encoded data removed]",
      "text/plain": [
       "<Figure size 432x288 with 1 Axes>"
      ]
     },
     "metadata": {
      "needs_background": "light"
     },
     "output_type": "display_data"
    }
   ],
   "source": [
    "plt.plot(f1_score_test)"
   ]
  }
 ],
 "metadata": {
  "kernelspec": {
   "display_name": "mm_p",
   "language": "python",
   "name": "python3"
  },
  "language_info": {
   "codemirror_mode": {
    "name": "ipython",
    "version": 3
   },
   "file_extension": ".py",
   "mimetype": "text/x-python",
   "name": "python",
   "nbconvert_exporter": "python",
   "pygments_lexer": "ipython3",
   "version": "3.8.12"
  }
 },
 "nbformat": 4,
 "nbformat_minor": 2
}
