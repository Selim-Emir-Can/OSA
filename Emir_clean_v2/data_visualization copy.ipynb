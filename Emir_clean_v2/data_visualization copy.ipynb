{
 "cells": [
  {
   "cell_type": "code",
   "execution_count": null,
   "metadata": {},
   "outputs": [],
   "source": [
    "#reload the modules before running the program\n",
    "%load_ext autoreload\n",
    "%autoreload 2\n",
    "\n",
    "import numpy as np\n",
    "import scipy\n",
    "from scipy import signal\n",
    "from scipy.fft import fftshift\n",
    "from scipy.fft import fft, fftfreq\n",
    "\n",
    "import matplotlib.pyplot as plt\n",
    "import matplotlib as mpl\n",
    "\n",
    "from tqdm import tqdm\n",
    "import torch\n",
    "import torch.nn as nn\n",
    "import torch.nn.functional as F\n",
    "from torch.utils.data import DataLoader\n",
    "\n",
    "import os\n",
    "import math\n",
    "import cv2"
   ]
  },
  {
   "cell_type": "code",
   "execution_count": null,
   "metadata": {},
   "outputs": [],
   "source": [
    "from datasets import RFData, CameraData, SignalDataset, FuseDatasets\n",
    "import metrics\n",
    "import utils"
   ]
  },
  {
   "cell_type": "code",
   "execution_count": null,
   "metadata": {},
   "outputs": [],
   "source": [
    "np.random.seed(0)\n",
    "torch.manual_seed(0)\n",
    "data_path = r\"D:\\osa_new_processed\"\n",
    "# trial_folders = [\"v_12_5\", \"v_13_5\", \"v_13_10\"]\n",
    "trial_folders = os.listdir(data_path)\n",
    "\n",
    "# train_idxs = np.linspace(0, 49, 50, dtype=int)\n",
    "train_folders = trial_folders#[trial_folders[i] for i in train_idxs]\n",
    "# test_folders = [trial_folders[i] for i in range(len(trial_folders)) if i not in train_idxs]\n",
    "\n",
    "\n",
    "thermal_file_name = \"Thermal_Camera\"\n",
    "num_samps_oversample = 20 # per experiment, number of samples to generate\n",
    "data_length = 9000\n",
    "fs = 30\n",
    "out_len = 1800 # sample length generated\n",
    "thermal_ext = \".tiff\"\n",
    "\n",
    "dataset_thermal_train = CameraData(data_path, train_folders, thermal_file_name, num_samps_oversample, fs, data_length, out_len, thermal_ext)\n",
    "# dataset_thermal_test = CameraData(data_path, test_folders, thermal_file_name, num_samps_oversample, fs, data_length, out_len, thermal_ext)\n",
    "\n",
    "samp_f=5e6\n",
    "freq_slope=60.012e12\n",
    "samples_per_chirp=256\n",
    "num_tx = 3\n",
    "num_rx = 4\n",
    "radar_file_name = \"FMCW_Radar.npy\"\n",
    "window_size = 5 # number of range bins to use\n",
    "\n",
    "dataset_radar_train = RFData(data_path, train_folders, data_length, radar_file_name, out_len, window_size, samples_per_chirp, samp_f, freq_slope, num_samps_oversample, num_tx, num_rx, fs)\n",
    "# dataset_radar_test = RFData(data_path, test_folders, data_length, radar_file_name, out_len, window_size, samples_per_chirp, samp_f, freq_slope, num_samps_oversample, num_tx, num_rx, fs)"
   ]
  },
  {
   "cell_type": "code",
   "execution_count": null,
   "metadata": {},
   "outputs": [],
   "source": [
    "np.random.seed(0)\n",
    "torch.manual_seed(0)\n",
    "vital_dict_file_name = \"gt_dict.pkl\"\n",
    "vital_key_radar = \"CHEST\"\n",
    "vital_key_thermal = \"AIR_flow\"\n",
    "l_freq_bpm = 5\n",
    "u_freq_bpm = 30\n",
    "dataset_OSA_train = SignalDataset(data_path, train_folders, vital_dict_file_name, 'OSA', data_length, out_len, False, fs, 1024, False, l_freq_bpm, u_freq_bpm, num_samps_oversample, False,\n",
    "                              normalize=False)\n",
    "dataset_CSA_train = SignalDataset(data_path, train_folders, vital_dict_file_name, 'CSA', data_length, out_len, False, fs, 1024, False, l_freq_bpm, u_freq_bpm, num_samps_oversample, False,\n",
    "                              normalize=False)\n",
    "dataset_MSA_train = SignalDataset(data_path, train_folders, vital_dict_file_name, 'MSA', data_length, out_len, False, fs, 1024, False, l_freq_bpm, u_freq_bpm, num_samps_oversample, False,\n",
    "                              normalize=False)\n",
    "dataset_hypopnea_train = SignalDataset(data_path, train_folders, vital_dict_file_name, 'Hypopnea', data_length, out_len, False, fs, 1024, False, l_freq_bpm, u_freq_bpm, num_samps_oversample, False,\n",
    "                              normalize=False)\n",
    "dataset_partial_apnea_train = SignalDataset(data_path, train_folders, vital_dict_file_name, 'Partial_Apnea', data_length, out_len, False, fs, 1024, False, l_freq_bpm, u_freq_bpm, num_samps_oversample, False,\n",
    "                              normalize=False)\n",
    "dataset_gt_thermal_train = SignalDataset(data_path, train_folders, vital_dict_file_name, vital_key_thermal, data_length, out_len, False, fs, 1024, False, l_freq_bpm, u_freq_bpm, num_samps_oversample, False)\n",
    "dataset_gt_radar_train = SignalDataset(data_path, train_folders, vital_dict_file_name, vital_key_radar, data_length, out_len, True, fs, 1024, False, l_freq_bpm, u_freq_bpm, num_samps_oversample, False)\n",
    "\n",
    "# dataset_apnea_test = SignalDataset(data_path, test_folders, vital_dict_file_name, 'Sleep_Apnea', data_length, out_len, False, fs, 1024, False, l_freq_bpm, u_freq_bpm, num_samps_oversample, False,\n",
    "#                               normalize=False)\n",
    "# dataset_gt_thermal_test = SignalDataset(data_path, test_folders, vital_dict_file_name, vital_key_thermal, data_length, out_len, False, fs, 1024, False, l_freq_bpm, u_freq_bpm, num_samps_oversample, False)\n",
    "# dataset_gt_radar_test = SignalDataset(data_path, test_folders, vital_dict_file_name, vital_key_radar, data_length, out_len, True, fs, 1024, False, l_freq_bpm, u_freq_bpm, num_samps_oversample, False)"
   ]
  },
  {
   "cell_type": "code",
   "execution_count": null,
   "metadata": {},
   "outputs": [],
   "source": [
    "np.random.seed(0)\n",
    "torch.manual_seed(0)\n",
    "fused_dataset_train = FuseDatasets([dataset_radar_train, dataset_thermal_train, dataset_gt_radar_train, dataset_gt_thermal_train, dataset_OSA_train, dataset_CSA_train, dataset_hypopnea_train, dataset_partial_apnea_train], [\"radar\", \"thermal\", \"gt_radar\", \"gt_ir\", \"gt_OSA\", \"gt_CSA\", \"hypopnea\", \"partial_apnea\"], out_len=out_len)\n",
    "# fused_dataset_test = FuseDatasets([dataset_radar_test, dataset_thermal_test, dataset_gt_radar_test, dataset_gt_thermal_test, dataset_apnea_test], [\"radar\", \"thermal\", \"gt_radar\", \"gt_ir\", \"gt_apnea\"], out_len=out_len)"
   ]
  },
  {
   "cell_type": "code",
   "execution_count": null,
   "metadata": {},
   "outputs": [],
   "source": [
    "t_arr = np.linspace(0, out_len/fs, out_len)"
   ]
  },
  {
   "cell_type": "code",
   "execution_count": 120,
   "metadata": {},
   "outputs": [],
   "source": [
    "vis_data_path = r\"C:\\Users\\Adnan\\Documents\\OSA\\figures\\osa_plots\"\n",
    "CSA_sample = np.load(os.path.join(vis_data_path, \"resp_effort_est_normal.npy\"))"
   ]
  },
  {
   "cell_type": "code",
   "execution_count": null,
   "metadata": {},
   "outputs": [],
   "source": [
    "CSA_sample = (CSA_sample - np.mean(CSA_sample)) / np.std(CSA_sample)"
   ]
  },
  {
   "cell_type": "code",
   "execution_count": null,
   "metadata": {},
   "outputs": [],
   "source": [
    "import utils"
   ]
  },
  {
   "cell_type": "code",
   "execution_count": 130,
   "metadata": {},
   "outputs": [],
   "source": [
    "def hl_envelopes_idx(s, dmin=1, dmax=1, split=False):\n",
    "    \"\"\"\n",
    "    Input :\n",
    "    s: 1d-array, data signal from which to extract high and low envelopes\n",
    "    dmin, dmax: int, optional, size of chunks, use this if the size of the input signal is too big\n",
    "    split: bool, optional, if True, split the signal in half along its mean, might help to generate the envelope in some cases\n",
    "    Output :\n",
    "    lmin,lmax : high/low envelope idx of input signal s\n",
    "    \"\"\"\n",
    "    lmin = (np.diff(np.sign(np.diff(s))) > 0).nonzero()[0] + 1 \n",
    "    # locals max\n",
    "    lmax = (np.diff(np.sign(np.diff(s))) < 0).nonzero()[0] + 1\n",
    "    print(len(lmin), len(lmax))\n",
    "    dmax = int(2*((len(lmax))/17)**(1/2))\n",
    "    dmin = dmax\n",
    "    lmin = lmin[[max(i-dmin//2,0)+np.argmin(s[lmin[max(i-dmin//2,0):min(i+dmin//2,len(lmin))]]) for i in range(0,len(lmin),1)]]\n",
    "    lmax = lmax[[max(i-dmax//2,0)+np.argmax(s[lmax[max(i-dmax//2,0):min(i+dmax//2,len(lmax))]]) for i in range(0,len(lmax),1)]]\n",
    "    \n",
    "    return lmin,lmax"
   ]
  },
  {
   "cell_type": "code",
   "execution_count": null,
   "metadata": {},
   "outputs": [],
   "source": [
    "def predict(thermal, dmin, dmax, th, mode='max', percentage=25, interval=None, plot=False):\n",
    "    \"\"\"\n",
    "    Input: \n",
    "    thermal: 1d-array, thermal signal\n",
    "    dmin, dmax: int, optional, size of chunks\n",
    "    th: float, threshold value\n",
    "    mode: str, optional, mode of thresholding\n",
    "    Output:\n",
    "    pred: 1d-array, binary prediction\n",
    "    \"\"\"\n",
    "    \n",
    "    t_arr = np.linspace(0, len(thermal)/30, len(thermal))\n",
    "    lmin, lmax = hl_envelopes_idx(thermal, dmin=dmin, dmax=dmax)\n",
    "    print(\"lmin: \", len(lmin), \"lmax: \", len(lmax), '\\n')\n",
    "    if(len(lmin) == 0 or len(lmax) == 0): # signal has no contrast\n",
    "        return np.zeros(len(thermal))\n",
    "    max_th = np.interp(t_arr, t_arr[lmax], thermal[lmax])\n",
    "    min_th = np.interp(t_arr, t_arr[lmin], thermal[lmin])\n",
    "\n",
    "    pred = None\n",
    "    cn = None\n",
    "    if(mode == 'max'):\n",
    "        pred = ((max_th - min_th)/max(max_th - min_th) < th).astype(int)\n",
    "        cn = max(max_th - min_th)\n",
    "    elif(mode == '90th'):\n",
    "        pred = ((max_th - min_th)/np.percentile(max_th - min_th, 90) < th).astype(int)\n",
    "        cn = np.percentile(max_th - min_th, 90)\n",
    "    elif(mode == 'median'):\n",
    "        pred = ((max_th - min_th)/np.median(max_th - min_th) < th).astype(int)\n",
    "        cn = np.median(max_th - min_th)\n",
    "    elif(mode == 'mean'):\n",
    "        pred = ((max_th - min_th)/np.mean(max_th - min_th) < th).astype(int)\n",
    "        cn = np.mean(max_th - min_th)\n",
    "    else:\n",
    "        pred = ((max_th - min_th)/np.percentile(max_th - min_th, percentage) < th).astype(int)\n",
    "        cn = np.percentile(max_th - min_th, percentage)\n",
    "    \n",
    "    if(plot == True):\n",
    "        if(len(lmin) == 0 or len(lmax) == 0): # signal has no contrast\n",
    "            return\n",
    "        if(interval is not None):\n",
    "            t_arr = t_arr + interval[0]/30\n",
    "        lx = t_arr[lmin]\n",
    "        mx = t_arr[lmax]\n",
    "\n",
    "        min_env = thermal[lmin]\n",
    "        max_env = thermal[lmax]\n",
    "        dists_min, dists_max = utils.get_motion_scores(max_env, min_env, half_len=2)\n",
    "        plt.plot(lx, min_env, 'ro-', label='low env')\n",
    "        plt.plot(mx, max_env, 'go-', label='high env')\n",
    "        plt.plot(t_arr, thermal, color='black', label='Thermal Video Mean Over Time')\n",
    "        # plt.title(\"Thermal Signal with Envelope\")\n",
    "        # plt.ylabel(\"Amplitude\")\n",
    "        # plt.xlabel(\"Time (s)\")\n",
    "        # plt.tick_params(\n",
    "        #                 axis='x',          # changes apply to the x-axis\n",
    "        #                 which='both',      # both major and minor ticks are affected\n",
    "        #                 bottom=False,      # ticks along the bottom edge are off\n",
    "        #                 top=False,         # ticks along the top edge are off\n",
    "        #                 labelbottom=False) # labels along the bottom edge are off\n",
    "        # plt.tick_params(\n",
    "        #                 axis='y',          # changes apply to the y-axis\n",
    "        #                 which='both',      # both major and minor ticks are affected\n",
    "        #                 bottom=False,      # ticks along the bottom edge are off\n",
    "        #                 top=False,         # ticks along the top edge are off\n",
    "        #                 labelbottom=False) # labels along the bottom edge are off\n",
    "        plt.axis('off')\n",
    "\n",
    "        # plt.legend()\n",
    "        plt.show()\n",
    "\n",
    "        plt.plot(lx, dists_min, label='low')\n",
    "        plt.plot(mx, dists_max, label='high')\n",
    "        plt.title(\"Thermal Envelope Point Distance to Neighbors\")\n",
    "        plt.show()\n",
    "\n",
    "        plt.plot(t_arr, (max_th - min_th)/cn, label='Normalized Envelope Difference')\n",
    "        plt.plot(t_arr, pred, label='Prediction')\n",
    "        plt.title(\"Thermal Pred Before Thresholding\")\n",
    "        plt.xlabel(\"Time (s)\")\n",
    "        plt.ylabel(\"Normalized Difference\")\n",
    "        plt.legend()\n",
    "        plt.show()\n",
    "    return pred"
   ]
  },
  {
   "cell_type": "code",
   "execution_count": 132,
   "metadata": {},
   "outputs": [],
   "source": [
    "CSA_sample = np.load(os.path.join(vis_data_path, \"thermal_est_osa.npy\"))\n",
    "CSA_sample = np.load(os.path.join(vis_data_path, \"thermal_est_central.npy\"))"
   ]
  },
  {
   "cell_type": "code",
   "execution_count": 134,
   "metadata": {},
   "outputs": [],
   "source": [
    "CSA_sample = np.load(os.path.join(vis_data_path, \"resp_effort_est_central.npy\"))"
   ]
  },
  {
   "cell_type": "code",
   "execution_count": 135,
   "metadata": {},
   "outputs": [
    {
     "name": "stdout",
     "output_type": "stream",
     "text": [
      "18 17\n",
      "lmin:  18 lmax:  17 \n",
      "\n"
     ]
    },
    {
     "data": {
      "image/png": "[encoded data removed]",
      "text/plain": [
       "<Figure size 432x288 with 1 Axes>"
      ]
     },
     "metadata": {
      "needs_background": "light"
     },
     "output_type": "display_data"
    },
    {
     "data": {
      "image/png": "[encoded data removed]",
      "text/plain": [
       "<Figure size 432x288 with 1 Axes>"
      ]
     },
     "metadata": {
      "needs_background": "light"
     },
     "output_type": "display_data"
    },
    {
     "data": {
      "image/png": "[encoded data removed]",
      "text/plain": [
       "<Figure size 432x288 with 1 Axes>"
      ]
     },
     "metadata": {
      "needs_background": "light"
     },
     "output_type": "display_data"
    },
    {
     "name": "stdout",
     "output_type": "stream",
     "text": [
      "###################################################################\n"
     ]
    },
    {
     "data": {
      "image/png": "[encoded data removed]",
      "text/plain": [
       "<Figure size 432x288 with 1 Axes>"
      ]
     },
     "metadata": {
      "needs_background": "light"
     },
     "output_type": "display_data"
    }
   ],
   "source": [
    "plot=True\n",
    "thermal_th = 0.2\n",
    "thermal_dmin = 2\n",
    "thermal_dmax = 2\n",
    "\n",
    "# radar_dmin = 31\n",
    "# radar_dmax = 29\n",
    "# movement_magnitude_th = 1 # 4.5 for thermal signal\n",
    "# half_length = 90\n",
    "# suppression_time_th = 150\n",
    "\n",
    "# radar_signal = dataset_radar_train.__getitem__(idx)[:,0,0,:,2]\n",
    "# if(len(radar_signal) == 1800):\n",
    "    # radar_signal = radar_signal[:,0] + 1j*radar_signal[:,1]\n",
    "    # radar_signal = np.unwrap(np.angle(radar_signal))\n",
    "    # radar_signal = (radar_signal - np.mean(radar_signal)) / np.std(radar_signal)\n",
    "\n",
    "# thermal_signal = utils.get_thermal(fused_dataset_train[idx])\n",
    "thermal_signal = CSA_sample\n",
    "thermal_signal = (thermal_signal - np.mean(thermal_signal)) / np.std(thermal_signal)\n",
    "\n",
    "thermal_pred = predict(thermal=thermal_signal, dmin=thermal_dmin, dmax=thermal_dmax, th=thermal_th, mode='max', percentage=25, plot=plot)\n",
    "\n",
    "print(r\"###################################################################\")\n",
    "    # dists_min, dists_max, lmin, lmax = utils.movement_detector(radar_signal, dmin=radar_dmin, dmax=radar_dmax, plot=plot, include_edges=True)\n",
    "    # center_list = utils.find_movement_peaks(dists_min, dists_max, t_arr, th=movement_magnitude_th, x_th=suppression_time_th, lmin=lmin, lmax=lmax, plot=plot)\n",
    "\n",
    "    # signal_comps = utils.remove_peaks(center_list, radar_signal, half_length=half_length)\n",
    "    # pred_rad = np.zeros(len(radar_signal))\n",
    "\n",
    "    # for k, sig in enumerate(signal_comps):\n",
    "    #     if(len(sig[0]) != 0):\n",
    "    #         new_radar = (sig[0] - np.mean(sig[0]))/np.std(sig[0])\n",
    "    #         # pred_rad[sig[1][0]:sig[1][1]] = utils.predict(new_radar, dmin=int(20*((len(new_radar)/30)/30)), dmax=int(20*((len(new_radar)/30)/30)), th=0.2, mode='max', interval=[sig[1][0],sig[1][1]], plot=True)\n",
    "    #         pred_rad[sig[1][0]:sig[1][1]] = utils.predict(new_radar, dmin=20, dmax=20, th=0.2, mode='max', interval=[sig[1][0],sig[1][1]], plot=plot)\n",
    "\n",
    "    # if(len(signal_comps) == 0):\n",
    "    #     pred_rad = utils.predict(radar_signal , dmin=20, dmax=20, th=0.1, mode='max', plot=plot)\n",
    "    # print('Idx: ', idx)\n",
    "    # print('Iteration: ', arr_idx)\n",
    "    # if(plot == False):\n",
    "        # plt.plot(t_arr, radar_signal, label='Radar')\n",
    "        # plt.plot(t_arr, dataset_gt_radar_train.__getitem__(idx)[:,0], label='GT Radar')\n",
    "        # plt.legend()\n",
    "        # plt.title('Radar')\n",
    "        # plt.show()\n",
    "plt.plot(t_arr, thermal_signal, label='Thermal Signal')\n",
    "        # plt.plot(t_arr, (dataset_gt_thermal_train.__getitem__(idx)[:,0] - np.mean(dataset_gt_thermal_train.__getitem__(idx)[:,0])), label='GT Thermal')\n",
    "plt.title('Sample Visualization')\n",
    "# plt.plot(t_arr, pred_rad, linewidth=7.0, label='Predicted Radar')\n",
    "# plt.plot(t_arr, 0.9*dataset_OSA_train.__getitem__(idx)[:,0], label='OSA')\n",
    "# plt.plot(t_arr, 1.1*dataset_CSA_train.__getitem__(idx)[:,0], linewidth=7.0, label='CSA')\n",
    "# plt.plot(t_arr, 1.5*dataset_MSA_train.__getitem__(idx)[:,0], label='MSA')\n",
    "plt.plot(t_arr, thermal_pred, label='Predicted Apnea')\n",
    "plt.xlabel('Time (s)')\n",
    "plt.ylabel('Amplitude')\n",
    "\n",
    "plt.legend()\n",
    "plt.show()"
   ]
  },
  {
   "cell_type": "code",
   "execution_count": null,
   "metadata": {},
   "outputs": [],
   "source": [
    "\"\"\" PSEUDO-CODE FOR ENVELOPE DETECTION ALGORITHM\n",
    "1. Compute the first derivative of the signal, take the sign of the derivative\n",
    "2. Compute the derivative of the sign of the derivative which is equivalent to computing the inflection points on the curve\n",
    "3. Save/partition the indexes of the local minima and maxima separately as lmin and lmax\n",
    "4. for each local minima in lmin, look at that local minima and the next dmin number of local minima. Replace the old local minima index with the global minima index out of these candidate lists if necessary.\n",
    "5. for each local maxima in lmax, look at that local maxima and the next dmax number of local maxima. Replace the old local maxima with the global maxima out of these candidate lists if necessary.\n",
    "6. return indexes\n",
    "\"\"\""
   ]
  },
  {
   "cell_type": "code",
   "execution_count": null,
   "metadata": {},
   "outputs": [],
   "source": [
    "dataset_OSA_train.__getitem__(0)[:,0].shape"
   ]
  },
  {
   "cell_type": "code",
   "execution_count": null,
   "metadata": {},
   "outputs": [],
   "source": [
    "OSA_idx = []\n",
    "folds = []\n",
    "count = 0\n",
    "for i in range(len(dataset_OSA_train)):\n",
    "    # print(i)\n",
    "    try:\n",
    "        # folds.append(dataset_OSA_train.trial_folders[dataset_OSA_train.oversampling_idxs[i][0]])\n",
    "        batch = dataset_OSA_train.__getitem__(i)[:,0]\n",
    "        if(np.mean(batch) > 0.1):\n",
    "            OSA_idx.append(i)\n",
    "    except:\n",
    "        print(dataset_OSA_train.oversampling_idxs[i][0])\n",
    "        # print(dataset_OSA_train.trial_folders[dataset_OSA_train.oversampling_idxs[i][0]])\n",
    "        count = count + 1\n",
    "        pass\n",
    "\n",
    "print(100*len(OSA_idx)/len(dataset_OSA_train), '%')\n",
    "print(count)\n",
    "\n",
    "CSA_idx = []\n",
    "count = 0\n",
    "for i in range(len(dataset_CSA_train)):\n",
    "    # print(i)\n",
    "    try:\n",
    "        # folds.append(dataset_OSA_train.trial_folders[dataset_OSA_train.oversampling_idxs[i][0]])\n",
    "        batch = dataset_CSA_train.__getitem__(i)[:,0]\n",
    "        if(np.mean(batch) > 0.1):\n",
    "            CSA_idx.append(i)\n",
    "    except:\n",
    "        print(dataset_CSA_train.oversampling_idxs[i][0])\n",
    "        # print(dataset_OSA_train.trial_folders[dataset_OSA_train.oversampling_idxs[i][0]])\n",
    "        count = count + 1\n",
    "        pass\n",
    "\n",
    "print(100*len(CSA_idx)/len(dataset_CSA_train), '%')\n",
    "print(count)"
   ]
  },
  {
   "cell_type": "code",
   "execution_count": null,
   "metadata": {},
   "outputs": [],
   "source": []
  },
  {
   "cell_type": "code",
   "execution_count": null,
   "metadata": {},
   "outputs": [],
   "source": []
  },
  {
   "cell_type": "code",
   "execution_count": null,
   "metadata": {},
   "outputs": [],
   "source": [
    "import pickle\n",
    "path = r\"K:\\OSA_project\\Emir_Clean\\saved_files\\full_arr.pickle\"\n",
    "with open(path, \"rb\") as f:\n",
    "    full_arr = pickle.load(f)\n",
    "\n",
    "prod_arr = np.load(r\"K:\\OSA_project\\Emir_Clean\\saved_files\\prod_arr.npy\")"
   ]
  },
  {
   "cell_type": "code",
   "execution_count": null,
   "metadata": {},
   "outputs": [],
   "source": [
    "best_idx = np.argsort(prod_arr)[::-1]\n",
    "print(full_arr[best_idx[0]])"
   ]
  },
  {
   "cell_type": "code",
   "execution_count": null,
   "metadata": {},
   "outputs": [],
   "source": [
    "import utils"
   ]
  },
  {
   "cell_type": "code",
   "execution_count": null,
   "metadata": {},
   "outputs": [],
   "source": [
    "len(CSA_idx)"
   ]
  },
  {
   "cell_type": "markdown",
   "metadata": {},
   "source": [
    "36, 32, 29"
   ]
  },
  {
   "cell_type": "code",
   "execution_count": null,
   "metadata": {},
   "outputs": [],
   "source": [
    "idx = CSA_idx[29]\n",
    "for arr_idx, idx in enumerate(range(len(fused_dataset_train))):\n",
    "    if(r\"v_30\" in dataset_thermal_train.trial_folders[dataset_thermal_train.oversampling_idxs[idx][0]]):\n",
    "        plot=False\n",
    "        thermal_th = 0.2\n",
    "        thermal_dmin = 31\n",
    "        thermal_dmax = 29\n",
    "\n",
    "        radar_dmin = 31\n",
    "        radar_dmax = 29\n",
    "        movement_magnitude_th = 1 # 4.5 for thermal signal\n",
    "        half_length = 90\n",
    "        suppression_time_th = 150\n",
    "\n",
    "        radar_signal = dataset_radar_train.__getitem__(idx)[:,0,0,:,2]\n",
    "        if(len(radar_signal) == 1800):\n",
    "            radar_signal = radar_signal[:,0] + 1j*radar_signal[:,1]\n",
    "            radar_signal = np.unwrap(np.angle(radar_signal))\n",
    "            radar_signal = (radar_signal - np.mean(radar_signal)) / np.std(radar_signal)\n",
    "\n",
    "            thermal_signal = utils.get_thermal(fused_dataset_train[idx])\n",
    "            thermal_signal = (thermal_signal - np.mean(thermal_signal)) / np.std(thermal_signal)\n",
    "\n",
    "            thermal_pred = utils.predict(thermal=thermal_signal, dmin=thermal_dmin, dmax=thermal_dmax, th=thermal_th, mode='max', percentage=25, plot=plot)\n",
    "\n",
    "            print(r\"###################################################################\")\n",
    "            dists_min, dists_max, lmin, lmax = utils.movement_detector(radar_signal, dmin=radar_dmin, dmax=radar_dmax, plot=plot, include_edges=True)\n",
    "            center_list = utils.find_movement_peaks(dists_min, dists_max, t_arr, th=movement_magnitude_th, x_th=suppression_time_th, lmin=lmin, lmax=lmax, plot=plot)\n",
    "\n",
    "            signal_comps = utils.remove_peaks(center_list, radar_signal, half_length=half_length)\n",
    "            pred_rad = np.zeros(len(radar_signal))\n",
    "\n",
    "            for k, sig in enumerate(signal_comps):\n",
    "                if(len(sig[0]) != 0):\n",
    "                    new_radar = (sig[0] - np.mean(sig[0]))/np.std(sig[0])\n",
    "                    # pred_rad[sig[1][0]:sig[1][1]] = utils.predict(new_radar, dmin=int(20*((len(new_radar)/30)/30)), dmax=int(20*((len(new_radar)/30)/30)), th=0.2, mode='max', interval=[sig[1][0],sig[1][1]], plot=True)\n",
    "                    pred_rad[sig[1][0]:sig[1][1]] = utils.predict(new_radar, dmin=20, dmax=20, th=0.2, mode='max', interval=[sig[1][0],sig[1][1]], plot=plot)\n",
    "\n",
    "            if(len(signal_comps) == 0):\n",
    "                pred_rad = utils.predict(radar_signal , dmin=20, dmax=20, th=0.1, mode='max', plot=plot)\n",
    "            print('Idx: ', idx)\n",
    "            print('Iteration: ', arr_idx)\n",
    "            if(plot == False):\n",
    "                plt.plot(t_arr, radar_signal, label='Radar')\n",
    "                plt.plot(t_arr, dataset_gt_radar_train.__getitem__(idx)[:,0], label='GT Radar')\n",
    "                plt.legend()\n",
    "                plt.title('Radar')\n",
    "                plt.show()\n",
    "                plt.plot(t_arr, -thermal_signal, label='Thermal')\n",
    "                plt.plot(t_arr, (dataset_gt_thermal_train.__getitem__(idx)[:,0] - np.mean(dataset_gt_thermal_train.__getitem__(idx)[:,0])), label='GT Thermal')\n",
    "                plt.title('Thermal')\n",
    "                plt.legend()\n",
    "                plt.show()\n",
    "            plt.plot(t_arr, pred_rad, linewidth=7.0, label='Predicted Radar')\n",
    "            plt.plot(t_arr, 0.9*dataset_OSA_train.__getitem__(idx)[:,0], label='OSA')\n",
    "            plt.plot(t_arr, 1.1*dataset_CSA_train.__getitem__(idx)[:,0], linewidth=7.0, label='CSA')\n",
    "            plt.plot(t_arr, 1.5*dataset_MSA_train.__getitem__(idx)[:,0], label='MSA')\n",
    "            plt.plot(t_arr, thermal_pred, label='Thermal Predicted')\n",
    "\n",
    "            plt.legend()\n",
    "            plt.show()"
   ]
  },
  {
   "cell_type": "code",
   "execution_count": null,
   "metadata": {},
   "outputs": [],
   "source": [
    "vids = [1443, 1438, 1456]#864]#[3661, 3660, 3664, 3665, 3669, 3674, 3680, 3681, 3862]#2821, 2822]#3863, 3867, 3048, 2983]#[4736, 4742, 4738]"
   ]
  },
  {
   "cell_type": "code",
   "execution_count": null,
   "metadata": {},
   "outputs": [],
   "source": [
    "len(CSA_idx), len(OSA_idx)"
   ]
  },
  {
   "cell_type": "code",
   "execution_count": null,
   "metadata": {},
   "outputs": [],
   "source": [
    "id= 3\n",
    "r\"v_37\" in dataset_thermal_train.trial_folders[dataset_thermal_train.oversampling_idxs[vids[id]][0]]"
   ]
  },
  {
   "cell_type": "code",
   "execution_count": null,
   "metadata": {},
   "outputs": [],
   "source": []
  },
  {
   "cell_type": "code",
   "execution_count": null,
   "metadata": {},
   "outputs": [],
   "source": [
    "for i in range(len(vids)):\n",
    "    index = vids[i]\n",
    "    image_arr = fused_dataset_train[index][\"thermal\"][0,:,:,:]\n",
    "    # thumbnail = f\"E:\\OSA_project\\Kai_data\\{index}.png\"\n",
    "    # plt.imshow(image_arr[0])\n",
    "    # plt.savefig(thumbnail) \n",
    "    norm_im = utils.normalize(image_arr)\n",
    "    # Output video file name\n",
    "    output_video = f\"K:\\OSA_project\\{index}.mp4\"\n",
    "    height, width, = 64, 64\n",
    "    fs = 30\n",
    "\n",
    "    # Create a VideoWriter object\n",
    "    fourcc = cv2.VideoWriter_fourcc(*'MP42')\n",
    "    video = cv2.VideoWriter(output_video, fourcc, fs, (width, height))\n",
    "\n",
    "    # Iterate over the image files and write each frame to the video\n",
    "    for i in range(len(norm_im)):\n",
    "        img = cv2.applyColorMap(norm_im[i], cv2.COLORMAP_JET)\n",
    "        video.write(img)\n",
    "\n",
    "    # Release the VideoWriter object\n",
    "    video.release()\n"
   ]
  },
  {
   "cell_type": "code",
   "execution_count": null,
   "metadata": {},
   "outputs": [],
   "source": [
    "radar_signal1 = dataset_radar_train.__getitem__(4702)[:,0,0,:,2]\n",
    "radar_signal1 = radar_signal1[:,0] + 1j*radar_signal1[:,1]\n",
    "radar_signal1 = np.unwrap(np.angle(radar_signal1))\n",
    "import scipy.signal\n",
    "\n",
    "b, a = scipy.signal.butter(2, (5/60,30/60), fs=30, btype='bandpass')\n",
    "radar_signal1 = scipy.signal.filtfilt(b, a, radar_signal1)\n",
    "radar_signal1 = (radar_signal1 - np.mean(radar_signal1)) / np.std(radar_signal1)\n",
    "plt.plot(radar_signal1)"
   ]
  },
  {
   "cell_type": "code",
   "execution_count": null,
   "metadata": {},
   "outputs": [],
   "source": [
    "thermal_signal1 = utils.get_thermal(fused_dataset_train[4702])\n",
    "thermal_signal1 = scipy.signal.filtfilt(b,a,thermal_signal1)\n",
    "thermal_signal1 = (thermal_signal1 - np.mean(thermal_signal1)) / np.std(thermal_signal1)\n",
    "plt.plot(thermal_signal1)"
   ]
  },
  {
   "cell_type": "code",
   "execution_count": null,
   "metadata": {},
   "outputs": [],
   "source": [
    "plt.plot(dataset_OSA_train.__getitem__(4702)[:,0])"
   ]
  },
  {
   "cell_type": "code",
   "execution_count": null,
   "metadata": {},
   "outputs": [],
   "source": [
    "plt.plot(thermal_signal1)\n"
   ]
  },
  {
   "cell_type": "code",
   "execution_count": null,
   "metadata": {},
   "outputs": [],
   "source": [
    "\n",
    "plt.plot(radar_signal1)\n",
    "np.save(\"resp_effort_est_osa.npy\", radar_signal1)\n",
    "\n"
   ]
  },
  {
   "cell_type": "code",
   "execution_count": null,
   "metadata": {},
   "outputs": [],
   "source": [
    "idx = CSA_idx[29]\n",
    "for arr_idx, idx in enumerate(OSA_idx):\n",
    "    plot=False\n",
    "    thermal_th = 0.2\n",
    "    thermal_dmin = 31\n",
    "    thermal_dmax = 29\n",
    "\n",
    "    radar_dmin = 31\n",
    "    radar_dmax = 29\n",
    "    movement_magnitude_th = 1 # 4.5 for thermal signal\n",
    "    half_length = 90\n",
    "    suppression_time_th = 150\n",
    "\n",
    "    radar_signal = dataset_radar_train.__getitem__(idx)[:,0,0,:,2]\n",
    "    if(len(radar_signal) == 1800):\n",
    "        radar_signal = radar_signal[:,0] + 1j*radar_signal[:,1]\n",
    "        radar_signal = np.unwrap(np.angle(radar_signal))\n",
    "        radar_signal = scipy.signal.filtfilt(b, a, radar_signal)\n",
    "        radar_signal = (radar_signal - np.mean(radar_signal)) / np.std(radar_signal)\n",
    "\n",
    "        thermal_signal = utils.get_thermal(fused_dataset_train[idx])\n",
    "        thermal_signal = scipy.signal.filtfilt(b,a,thermal_signal)\n",
    "        thermal_signal = (thermal_signal - np.mean(thermal_signal)) / np.std(thermal_signal)\n",
    "\n",
    "        thermal_pred = utils.predict(thermal=thermal_signal, dmin=thermal_dmin, dmax=thermal_dmax, th=thermal_th, mode='max', percentage=25, plot=plot)\n",
    "\n",
    "        print(r\"###################################################################\")\n",
    "        dists_min, dists_max, lmin, lmax = utils.movement_detector(radar_signal, dmin=radar_dmin, dmax=radar_dmax, plot=plot, include_edges=True)\n",
    "        center_list = utils.find_movement_peaks(dists_min, dists_max, t_arr, th=movement_magnitude_th, x_th=suppression_time_th, lmin=lmin, lmax=lmax, plot=plot)\n",
    "\n",
    "        signal_comps = utils.remove_peaks(center_list, radar_signal, half_length=half_length)\n",
    "        pred_rad = np.zeros(len(radar_signal))\n",
    "\n",
    "        for k, sig in enumerate(signal_comps):\n",
    "            if(len(sig[0]) != 0):\n",
    "                new_radar = (sig[0] - np.mean(sig[0]))/np.std(sig[0])\n",
    "                # pred_rad[sig[1][0]:sig[1][1]] = utils.predict(new_radar, dmin=int(20*((len(new_radar)/30)/30)), dmax=int(20*((len(new_radar)/30)/30)), th=0.2, mode='max', interval=[sig[1][0],sig[1][1]], plot=True)\n",
    "                pred_rad[sig[1][0]:sig[1][1]] = utils.predict(new_radar, dmin=20, dmax=20, th=0.2, mode='max', interval=[sig[1][0],sig[1][1]], plot=plot)\n",
    "\n",
    "        if(len(signal_comps) == 0):\n",
    "            pred_rad = utils.predict(radar_signal , dmin=20, dmax=20, th=0.1, mode='max', plot=plot)\n",
    "        print('Idx: ', idx)\n",
    "        print('Iteration: ', arr_idx)\n",
    "        if(plot == False):\n",
    "            plt.plot(t_arr, radar_signal, label='Radar')\n",
    "            plt.plot(t_arr, scipy.signal.filtfilt(b, a, dataset_gt_radar_train.__getitem__(idx)[:,0]), label='GT Radar')\n",
    "            plt.legend()\n",
    "            plt.title('Radar')\n",
    "            plt.show()\n",
    "            plt.plot(t_arr, thermal_signal, label='Thermal')\n",
    "            plt.plot(t_arr, scipy.signal.filtfilt(b, a, dataset_gt_thermal_train.__getitem__(idx)[:,0] - np.mean(dataset_gt_thermal_train.__getitem__(idx)[:,0])), label='GT Thermal')\n",
    "            plt.title('Thermal')\n",
    "            plt.legend()\n",
    "            plt.show()\n",
    "        plt.plot(t_arr, pred_rad, linewidth=7.0, label='Predicted Radar')\n",
    "        plt.plot(t_arr, 0.9*dataset_OSA_train.__getitem__(idx)[:,0], label='OSA')\n",
    "        plt.plot(t_arr, 1.1*dataset_CSA_train.__getitem__(idx)[:,0], linewidth=7.0, label='CSA')\n",
    "        plt.plot(t_arr, 1.5*dataset_MSA_train.__getitem__(idx)[:,0], label='MSA')\n",
    "        plt.plot(t_arr, thermal_pred, label='Thermal Predicted')\n",
    "\n",
    "        plt.legend()\n",
    "        plt.show()"
   ]
  },
  {
   "cell_type": "code",
   "execution_count": null,
   "metadata": {},
   "outputs": [],
   "source": [
    "root = r\"E:\\OSA_project\\Emir_Clean\\saved_idx_arrs\"\n",
    "NUKS_idx = np.load(os.path.join(root, \"NUKS_idx.npy\"))\n",
    "mode_lock_idx = np.load(os.path.join(root, \"mode_lock_idx.npy\"))\n",
    "combined_movement_idx = np.load(os.path.join(root, \"combined_movement_idx.npy\"))\n",
    "movement_idx = np.load(os.path.join(root, \"movement_new_idx.npy\"))"
   ]
  },
  {
   "cell_type": "code",
   "execution_count": null,
   "metadata": {},
   "outputs": [],
   "source": [
    "root = r\"E:\\OSA_project\\Emir_Clean\\pre_load_data\"\n",
    "gt_apnea = np.load(os.path.join(root, \"gt_apnea.npy\"))\n",
    "thermal_arr = np.load(os.path.join(root, \"thermal_arr.npy\"))\n",
    "t_arr = np.linspace(0, 1800/30, 1800)"
   ]
  },
  {
   "cell_type": "code",
   "execution_count": null,
   "metadata": {},
   "outputs": [],
   "source": [
    "thermal_vid_arr = np.load(os.path.join(root, \"thermal_vid_arr.npy\"))"
   ]
  },
  {
   "cell_type": "code",
   "execution_count": null,
   "metadata": {},
   "outputs": [],
   "source": [
    "gt_movement_idx = np.load(r\"E:\\OSA_project\\Emir_Clean\\saved_idx_arrs\\gt_movement_idx.npy\")\n",
    "discard_idx = np.load(r\"E:\\OSA_project\\Emir_Clean\\saved_idx_arrs\\discard_idx.npy\")"
   ]
  },
  {
   "cell_type": "code",
   "execution_count": null,
   "metadata": {},
   "outputs": [],
   "source": [
    "thermal_signal = fused_dataset_train['thermal'][0].shape"
   ]
  },
  {
   "cell_type": "code",
   "execution_count": null,
   "metadata": {},
   "outputs": [],
   "source": []
  },
  {
   "cell_type": "code",
   "execution_count": null,
   "metadata": {},
   "outputs": [],
   "source": [
    "print(precision, recall, accuracy, confusion_matrix)"
   ]
  },
  {
   "cell_type": "code",
   "execution_count": null,
   "metadata": {},
   "outputs": [],
   "source": [
    "dmin_arr = np.linspace(15,40, 10, dtype=int)\n",
    "dmax_arr = np.linspace(15,40, 10, dtype=int)\n",
    "th_arr = np.linspace(1, 8, 20)\n",
    "\n",
    "prods = []\n",
    "stats = []\n",
    "fps = []\n",
    "for th in tqdm(th_arr):\n",
    "    for dmin in tqdm(dmin_arr):\n",
    "        for dmax in dmax_arr:\n",
    "            gt_arr = np.zeros(1000)\n",
    "            pred_arr = np.zeros(1000)\n",
    "            exp_movement_idx = []\n",
    "            # exp_movement_idx.extend(vid_idxs)\n",
    "\n",
    "            for i in range(1000):\n",
    "                if(i in NUKS_idx):\n",
    "                    # print(\"NUKS\")\n",
    "                    pass\n",
    "                elif(i in mode_lock_idx):\n",
    "                    # print(\"Mode Lock\")\n",
    "                    pass\n",
    "                elif(i in discard_idx):\n",
    "                    # print(\"Discard\")\n",
    "                    pass\n",
    "                elif(i not in vid_idxs):\n",
    "                    # print(\"Normal\")\n",
    "                    if(utils.movement_detector(thermal_arr[i], dmin=dmin, dmax=dmax, th=th) == True):\n",
    "                        exp_movement_idx.append(i)\n",
    "            \n",
    "            for i in range(1000):\n",
    "                if(i in gt_movement_idx):\n",
    "                    gt_arr[i] = 1\n",
    "                if((i in exp_movement_idx) or (i in vid_idxs)):\n",
    "                    pred_arr[i] = 1\n",
    "\n",
    "            precision, recall, accuracy, confusion_matrix = utils.get_stats(np.array(pred_arr), np.array(gt_arr))\n",
    "            prods.append(precision*recall)\n",
    "            fps.append(confusion_matrix[1,0]) # want to minimize\n",
    "            stats.append([precision, recall, accuracy, confusion_matrix])\n"
   ]
  },
  {
   "cell_type": "code",
   "execution_count": null,
   "metadata": {},
   "outputs": [],
   "source": [
    "print(precision, recall, accuracy, confusion_matrix)"
   ]
  },
  {
   "cell_type": "code",
   "execution_count": null,
   "metadata": {},
   "outputs": [],
   "source": [
    "# if array contains nan set that entry to zero\n",
    "for i in range(len(prods)):\n",
    "    if(math.isnan(prods[i])):\n",
    "        prods[i] = 0"
   ]
  },
  {
   "cell_type": "code",
   "execution_count": null,
   "metadata": {},
   "outputs": [],
   "source": [
    "best_idx = np.argsort(prods)[::-1]\n",
    "best_idx = np.array(best_idx, dtype=int)"
   ]
  },
  {
   "cell_type": "code",
   "execution_count": null,
   "metadata": {},
   "outputs": [],
   "source": [
    "id = 0\n",
    "th_arr[best_idx[id] // 100], dmin_arr[(best_idx[id] % 100) // 10], dmax_arr[(best_idx[id] % 100) % 10]\n",
    "# (3.3684210526315788, 40, 24)"
   ]
  },
  {
   "cell_type": "code",
   "execution_count": null,
   "metadata": {},
   "outputs": [],
   "source": [
    "print(prods[best_idx[0]], stats[best_idx[0]])"
   ]
  },
  {
   "cell_type": "code",
   "execution_count": null,
   "metadata": {},
   "outputs": [],
   "source": [
    "#else\n",
    "print(precision, recall, accuracy, confusion_matrix)    "
   ]
  },
  {
   "cell_type": "code",
   "execution_count": null,
   "metadata": {},
   "outputs": [],
   "source": [
    "print(precision, recall, accuracy, confusion_matrix)    "
   ]
  },
  {
   "cell_type": "code",
   "execution_count": null,
   "metadata": {},
   "outputs": [],
   "source": [
    "for i in range(len(discard_idx)):\n",
    "    index = discard_idx[i]\n",
    "    image_arr = fused_dataset_train[index][\"thermal\"][0,:,:,:]\n",
    "    # thumbnail = f\"E:\\OSA_project\\Kai_data\\{index}.png\"\n",
    "    # plt.imshow(image_arr[0])\n",
    "    # plt.savefig(thumbnail) \n",
    "    norm_im = utils.normalize(image_arr)\n",
    "    # Output video file name\n",
    "    output_video = f\"E:\\OSA_project\\{index}.mp4\"\n",
    "    height, width, = 64, 64\n",
    "    fs = 30\n",
    "\n",
    "    # Create a VideoWriter object\n",
    "    fourcc = cv2.VideoWriter_fourcc(*'MP42')\n",
    "    video = cv2.VideoWriter(output_video, fourcc, fs, (width, height))\n",
    "\n",
    "    # Iterate over the image files and write each frame to the video\n",
    "    for i in range(len(norm_im)):\n",
    "        img = cv2.applyColorMap(norm_im[i], cv2.COLORMAP_JET)\n",
    "        video.write(img)\n",
    "\n",
    "    # Release the VideoWriter object\n",
    "    video.release()\n"
   ]
  },
  {
   "cell_type": "code",
   "execution_count": null,
   "metadata": {},
   "outputs": [],
   "source": [
    "for idx in range(900,1000):\n",
    "    if((idx not in NUKS_idx) and (idx not in mode_lock_idx)):\n",
    "        diff_arr = np.diff(thermal_vid_arr[idx], axis=0)\n",
    "        mean_arr = np.std(diff_arr**2, axis=(1,2))\n",
    "        pred = np.mean(utils.predict(thermal_arr[idx], 29, 31, 0.3394, plot=True)) > 0.1\n",
    "        print(idx, np.std(mean_arr), pred)\n",
    "\n",
    "\n",
    "        # mean_arr = mean_arr/np.std(mean_arr)\n",
    "        # lmin, lmax = utils.hl_envelopes_idx(mean_arr, dmin=29, dmax=31)\n",
    "        # utils.plot_envelope(t_arr[:-1], mean_arr, lmin, lmax)\n",
    "\n",
    "        # plt.plot(t_arr[:-1] , mean_arr)\n",
    "        # plt.show()\n",
    "        plt.plot(t_arr, gt_apnea[idx])\n",
    "        plt.show()"
   ]
  },
  {
   "cell_type": "code",
   "execution_count": null,
   "metadata": {},
   "outputs": [],
   "source": [
    "len(movement_idx), len(combined_movement_idx)"
   ]
  },
  {
   "cell_type": "code",
   "execution_count": null,
   "metadata": {},
   "outputs": [],
   "source": [
    "count = 0\n",
    "\n",
    "for i in combined_movement_idx:\n",
    "    if i not in movement_idx:\n",
    "        count += 1\n",
    "\n",
    "print(count)"
   ]
  },
  {
   "cell_type": "code",
   "execution_count": null,
   "metadata": {},
   "outputs": [],
   "source": [
    "count = 0\n",
    "\n",
    "for i in movement_idx:\n",
    "    if i not in combined_movement_idx:\n",
    "        count += 1\n",
    "\n",
    "print(count)"
   ]
  },
  {
   "cell_type": "code",
   "execution_count": null,
   "metadata": {},
   "outputs": [],
   "source": [
    "# Next steps\n",
    "# 1.1 Re-run grid search for thermal, save optimal parameters and finalize stats w/o motion--> need to wait for motion filtering algorithm (IN PROGRESS)\n",
    "# 1.2 create an algorithm that handles motion --> do this after finishing 1.1\n",
    "\n",
    "# 2.1 create a function that splits indexes based on patient number for AHI metrics -->  DONE\n",
    "\n",
    "# 3.1 make an algorithm for radar and run preliminary results --> can be done immediately\n",
    "\n",
    "# 4.1 create an algorithm that distinguishes between central apnea and obstructive apnea --> waiting for Kai to provide data and waiting to finish radar algorithm"
   ]
  }
 ],
 "metadata": {
  "kernelspec": {
   "display_name": "mm_p",
   "language": "python",
   "name": "python3"
  },
  "language_info": {
   "codemirror_mode": {
    "name": "ipython",
    "version": 3
   },
   "file_extension": ".py",
   "mimetype": "text/x-python",
   "name": "python",
   "nbconvert_exporter": "python",
   "pygments_lexer": "ipython3",
   "version": "3.7.11"
  }
 },
 "nbformat": 4,
 "nbformat_minor": 2
}
