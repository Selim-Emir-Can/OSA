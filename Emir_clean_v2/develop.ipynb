{
 "cells": [
  {
   "cell_type": "code",
   "execution_count": 1,
   "metadata": {},
   "outputs": [],
   "source": [
    "#reload the modules before running the program\n",
    "%load_ext autoreload\n",
    "%autoreload 2\n",
    "\n",
    "import numpy as np\n",
    "import scipy\n",
    "from scipy import signal\n",
    "from scipy.fft import fftshift\n",
    "from scipy.fft import fft, fftfreq\n",
    "\n",
    "import matplotlib.pyplot as plt\n",
    "import matplotlib as mpl\n",
    "\n",
    "from tqdm import tqdm\n",
    "import torch\n",
    "import torch.nn as nn\n",
    "import torch.nn.functional as F\n",
    "from torch.utils.data import DataLoader\n",
    "\n",
    "import os\n",
    "import math\n",
    "import cv2"
   ]
  },
  {
   "cell_type": "code",
   "execution_count": 2,
   "metadata": {},
   "outputs": [],
   "source": [
    "from datasets import RFData, CameraData, SignalDataset, FuseDatasets\n",
    "import metrics\n",
    "import utils"
   ]
  },
  {
   "cell_type": "code",
   "execution_count": 73,
   "metadata": {},
   "outputs": [],
   "source": [
    "np.random.seed(0)\n",
    "torch.manual_seed(0)\n",
    "data_path = r\"D:\\osa_new_processed\"\n",
    "# trial_folders = [\"v_12_5\", \"v_13_5\", \"v_13_10\"]\n",
    "trial_folders = os.listdir(data_path)\n",
    "\n",
    "# train_idxs = np.linspace(0, 49, 50, dtype=int)\n",
    "train_folders = trial_folders#[trial_folders[i] for i in train_idxs]\n",
    "# test_folders = [trial_folders[i] for i in range(len(trial_folders)) if i not in train_idxs]\n",
    "\n",
    "\n",
    "thermal_file_name = \"Thermal_Camera\"\n",
    "num_samps_oversample = 20 # per experiment, number of samples to generate\n",
    "data_length = 9000\n",
    "fs = 30\n",
    "out_len = 1800 # sample length generated\n",
    "thermal_ext = \".tiff\"\n",
    "\n",
    "dataset_thermal_train = CameraData(data_path, train_folders, thermal_file_name, num_samps_oversample, fs, data_length, out_len, thermal_ext)\n",
    "# dataset_thermal_test = CameraData(data_path, test_folders, thermal_file_name, num_samps_oversample, fs, data_length, out_len, thermal_ext)\n",
    "\n",
    "samp_f=5e6\n",
    "freq_slope=60.012e12\n",
    "samples_per_chirp=256\n",
    "num_tx = 3\n",
    "num_rx = 4\n",
    "radar_file_name = \"FMCW_Radar.npy\"\n",
    "window_size = 5 # number of range bins to use\n",
    "\n",
    "dataset_radar_train = RFData(data_path, train_folders, data_length, radar_file_name, out_len, window_size, samples_per_chirp, samp_f, freq_slope, num_samps_oversample, num_tx, num_rx, fs)\n",
    "# dataset_radar_test = RFData(data_path, test_folders, data_length, radar_file_name, out_len, window_size, samples_per_chirp, samp_f, freq_slope, num_samps_oversample, num_tx, num_rx, fs)"
   ]
  },
  {
   "cell_type": "code",
   "execution_count": 7,
   "metadata": {},
   "outputs": [
    {
     "name": "stdout",
     "output_type": "stream",
     "text": [
      "dict_keys(['Wireless', 'CHEST', 'ABD', 'PTAF', 'AIR_flow', 'OSA', 'CSA', 'MSA', 'Partial_Apnea', 'Hypopnea'])\n"
     ]
    }
   ],
   "source": [
    "import pickle\n",
    "path = r\"D:\\osa_new_processed\\v_13_90\\gt_dict.pkl\"\n",
    "\n",
    "with open(path, \"rb\") as f:\n",
    "    gt_dict = pickle.load(f)\n",
    "\n",
    "print(gt_dict.keys())"
   ]
  },
  {
   "cell_type": "code",
   "execution_count": 75,
   "metadata": {},
   "outputs": [],
   "source": [
    "np.random.seed(0)\n",
    "torch.manual_seed(0)\n",
    "vital_dict_file_name = \"gt_dict.pkl\"\n",
    "vital_key_radar = \"CHEST\"\n",
    "vital_key_thermal = \"AIR_flow\"\n",
    "l_freq_bpm = 5\n",
    "u_freq_bpm = 30\n",
    "dataset_OSA_train = SignalDataset(data_path, train_folders, vital_dict_file_name, 'OSA', data_length, out_len, False, fs, 1024, False, l_freq_bpm, u_freq_bpm, num_samps_oversample, False,\n",
    "                              normalize=False)\n",
    "dataset_CSA_train = SignalDataset(data_path, train_folders, vital_dict_file_name, 'CSA', data_length, out_len, False, fs, 1024, False, l_freq_bpm, u_freq_bpm, num_samps_oversample, False,\n",
    "                              normalize=False)\n",
    "dataset_hypopnea_train = SignalDataset(data_path, train_folders, vital_dict_file_name, 'Hypopnea', data_length, out_len, False, fs, 1024, False, l_freq_bpm, u_freq_bpm, num_samps_oversample, False,\n",
    "                              normalize=False)\n",
    "dataset_partial_apnea_train = SignalDataset(data_path, train_folders, vital_dict_file_name, 'Partial_Apnea', data_length, out_len, False, fs, 1024, False, l_freq_bpm, u_freq_bpm, num_samps_oversample, False,\n",
    "                              normalize=False)\n",
    "dataset_gt_thermal_train = SignalDataset(data_path, train_folders, vital_dict_file_name, vital_key_thermal, data_length, out_len, False, fs, 1024, False, l_freq_bpm, u_freq_bpm, num_samps_oversample, False)\n",
    "dataset_gt_radar_train = SignalDataset(data_path, train_folders, vital_dict_file_name, vital_key_radar, data_length, out_len, True, fs, 1024, False, l_freq_bpm, u_freq_bpm, num_samps_oversample, False)\n",
    "\n",
    "# dataset_apnea_test = SignalDataset(data_path, test_folders, vital_dict_file_name, 'Sleep_Apnea', data_length, out_len, False, fs, 1024, False, l_freq_bpm, u_freq_bpm, num_samps_oversample, False,\n",
    "#                               normalize=False)\n",
    "# dataset_gt_thermal_test = SignalDataset(data_path, test_folders, vital_dict_file_name, vital_key_thermal, data_length, out_len, False, fs, 1024, False, l_freq_bpm, u_freq_bpm, num_samps_oversample, False)\n",
    "# dataset_gt_radar_test = SignalDataset(data_path, test_folders, vital_dict_file_name, vital_key_radar, data_length, out_len, True, fs, 1024, False, l_freq_bpm, u_freq_bpm, num_samps_oversample, False)"
   ]
  },
  {
   "cell_type": "code",
   "execution_count": 76,
   "metadata": {},
   "outputs": [],
   "source": [
    "np.random.seed(0)\n",
    "torch.manual_seed(0)\n",
    "fused_dataset_train = FuseDatasets([dataset_radar_train, dataset_thermal_train, dataset_gt_radar_train, dataset_gt_thermal_train, dataset_OSA_train, dataset_CSA_train, dataset_hypopnea_train, dataset_partial_apnea_train], [\"radar\", \"thermal\", \"gt_radar\", \"gt_ir\", \"gt_OSA\", \"gt_CSA\", \"hypopnea\", \"partial_apnea\"], out_len=out_len)\n",
    "# fused_dataset_test = FuseDatasets([dataset_radar_test, dataset_thermal_test, dataset_gt_radar_test, dataset_gt_thermal_test, dataset_apnea_test], [\"radar\", \"thermal\", \"gt_radar\", \"gt_ir\", \"gt_apnea\"], out_len=out_len)"
   ]
  },
  {
   "cell_type": "code",
   "execution_count": 81,
   "metadata": {},
   "outputs": [
    {
     "name": "stderr",
     "output_type": "stream",
     "text": [
      "100%|██████████| 5200/5200 [7:51:25<00:00,  5.44s/it]   \n"
     ]
    }
   ],
   "source": [
    "save_path = r\"K:\\OSA_project\\Emir_Clean\\pre_load_datav2\"\n",
    "gt_OSA = np.zeros((len(fused_dataset_train), 1800))\n",
    "gt_CSA = np.zeros((len(fused_dataset_train), 1800))\n",
    "thermal_arr = np.zeros((len(fused_dataset_train), 1800))\n",
    "gt_hypopnea = np.zeros((len(fused_dataset_train), 1800))\n",
    "# thermal_vid_arr = np.zeros((len(fused_dataset_train), 1800, 64, 64))\n",
    "radar_arr = np.zeros((len(fused_dataset_train), 1800, 3, 4, 2, 5))\n",
    "gt_radar_arr = np.zeros((len(fused_dataset_train), 1800))\n",
    "gt_ir_arr = np.zeros((len(fused_dataset_train), 1800))\n",
    "\n",
    "for i in tqdm(range(len(fused_dataset_train))):\n",
    "    radar_arr[i,:,:,:,:,:] = fused_dataset_train[i]['radar']\n",
    "    gt_radar_arr[i,:] = fused_dataset_train[i]['gt_radar'][:,0]\n",
    "    gt_ir_arr[i,:] = fused_dataset_train[i]['gt_ir'][:,0]\n",
    "    # thermal_vid_arr[i,:,:,:] = fused_dataset_train[i]['thermal'][0,:]\n",
    "    gt_hypopnea[i,:] = fused_dataset_train[i][\"hypopnea\"][:,0]\n",
    "    gt_OSA[i,:] = fused_dataset_train[i][\"gt_OSA\"][:,0]\n",
    "    gt_CSA[i,:] = fused_dataset_train[i][\"gt_CSA\"][:,0]\n",
    "\n",
    "    thermal = utils.get_thermal(fused_dataset_train[i])\n",
    "    thermal = (thermal - np.mean(thermal))/np.std(thermal)\n",
    "    thermal_arr[i,:] = thermal\n",
    "    \n",
    "np.save(os.path.join(save_path, r\"gt_OSA.npy\"), gt_OSA)\n",
    "np.save(os.path.join(save_path, r\"gt_CSA.npy\"), gt_CSA)\n",
    "np.save(os.path.join(save_path, r\"thermal_arr.npy\"), thermal_arr)\n",
    "# np.save(os.path.join(save_path, r\"thermal_vid_arr.npy\"), thermal_vid_arr)\n",
    "np.save(os.path.join(save_path, r\"gt_hypopnea.npy\"), gt_hypopnea)\n",
    "np.save(os.path.join(save_path, r\"radar_arr.npy\"), radar_arr)\n",
    "np.save(os.path.join(save_path, r\"gt_radar_arr.npy\"), gt_radar_arr)\n",
    "np.save(os.path.join(save_path, r\"gt_ir_arr.npy\"), gt_ir_arr)"
   ]
  },
  {
   "cell_type": "code",
   "execution_count": 85,
   "metadata": {},
   "outputs": [
    {
     "ename": "MemoryError",
     "evalue": "Unable to allocate 143. GiB for an array with shape (2600, 1800, 64, 64) and data type float64",
     "output_type": "error",
     "traceback": [
      "\u001b[1;31m---------------------------------------------------------------------------\u001b[0m",
      "\u001b[1;31mMemoryError\u001b[0m                               Traceback (most recent call last)",
      "\u001b[1;32m<ipython-input-85-9111d6967b54>\u001b[0m in \u001b[0;36m<module>\u001b[1;34m\u001b[0m\n\u001b[1;32m----> 1\u001b[1;33m \u001b[0mthermal_vid_arr\u001b[0m \u001b[1;33m=\u001b[0m \u001b[0mnp\u001b[0m\u001b[1;33m.\u001b[0m\u001b[0mzeros\u001b[0m\u001b[1;33m(\u001b[0m\u001b[1;33m(\u001b[0m\u001b[0mlen\u001b[0m\u001b[1;33m(\u001b[0m\u001b[0mfused_dataset_train\u001b[0m\u001b[1;33m)\u001b[0m\u001b[1;33m//\u001b[0m\u001b[1;36m2\u001b[0m\u001b[1;33m,\u001b[0m \u001b[1;36m1800\u001b[0m\u001b[1;33m,\u001b[0m \u001b[1;36m64\u001b[0m\u001b[1;33m,\u001b[0m \u001b[1;36m64\u001b[0m\u001b[1;33m)\u001b[0m\u001b[1;33m)\u001b[0m\u001b[1;33m\u001b[0m\u001b[1;33m\u001b[0m\u001b[0m\n\u001b[0m\u001b[0;32m      2\u001b[0m \u001b[1;32mfor\u001b[0m \u001b[0mi\u001b[0m \u001b[1;32min\u001b[0m \u001b[0mtqdm\u001b[0m\u001b[1;33m(\u001b[0m\u001b[0mrange\u001b[0m\u001b[1;33m(\u001b[0m\u001b[0mlen\u001b[0m\u001b[1;33m(\u001b[0m\u001b[0mfused_dataset_train\u001b[0m\u001b[1;33m)\u001b[0m\u001b[1;33m//\u001b[0m\u001b[1;36m2\u001b[0m\u001b[1;33m)\u001b[0m\u001b[1;33m)\u001b[0m\u001b[1;33m:\u001b[0m\u001b[1;33m\u001b[0m\u001b[1;33m\u001b[0m\u001b[0m\n\u001b[0;32m      3\u001b[0m     \u001b[0mthermal_vid_arr\u001b[0m\u001b[1;33m[\u001b[0m\u001b[0mi\u001b[0m\u001b[1;33m,\u001b[0m\u001b[1;33m:\u001b[0m\u001b[1;33m,\u001b[0m\u001b[1;33m:\u001b[0m\u001b[1;33m,\u001b[0m\u001b[1;33m:\u001b[0m\u001b[1;33m]\u001b[0m \u001b[1;33m=\u001b[0m \u001b[0mfused_dataset_train\u001b[0m\u001b[1;33m[\u001b[0m\u001b[0mi\u001b[0m\u001b[1;33m]\u001b[0m\u001b[1;33m[\u001b[0m\u001b[1;34m'thermal'\u001b[0m\u001b[1;33m]\u001b[0m\u001b[1;33m[\u001b[0m\u001b[1;36m0\u001b[0m\u001b[1;33m,\u001b[0m\u001b[1;33m:\u001b[0m\u001b[1;33m]\u001b[0m\u001b[1;33m\u001b[0m\u001b[1;33m\u001b[0m\u001b[0m\n\u001b[0;32m      4\u001b[0m \u001b[0mnp\u001b[0m\u001b[1;33m.\u001b[0m\u001b[0msave\u001b[0m\u001b[1;33m(\u001b[0m\u001b[0mos\u001b[0m\u001b[1;33m.\u001b[0m\u001b[0mpath\u001b[0m\u001b[1;33m.\u001b[0m\u001b[0mjoin\u001b[0m\u001b[1;33m(\u001b[0m\u001b[0msave_path\u001b[0m\u001b[1;33m,\u001b[0m \u001b[1;34mr\"thermal_vid_arr.npy\"\u001b[0m\u001b[1;33m)\u001b[0m\u001b[1;33m,\u001b[0m \u001b[0mthermal_vid_arr\u001b[0m\u001b[1;33m)\u001b[0m\u001b[1;33m\u001b[0m\u001b[1;33m\u001b[0m\u001b[0m\n",
      "\u001b[1;31mMemoryError\u001b[0m: Unable to allocate 143. GiB for an array with shape (2600, 1800, 64, 64) and data type float64"
     ]
    }
   ],
   "source": [
    "thermal_vid_arr = np.zeros((len(fused_dataset_train), 1800, 64, 64))\n",
    "for i in tqdm(range(len(fused_dataset_train))):\n",
    "    thermal_vid_arr[i,:,:,:] = fused_dataset_train[i]['thermal'][0,:]\n",
    "np.save(os.path.join(save_path, r\"thermal_vid_arr.npy\"), thermal_vid_arr)"
   ]
  },
  {
   "cell_type": "code",
   "execution_count": null,
   "metadata": {},
   "outputs": [],
   "source": [
    "NUKS_idx = []\n",
    "movement_idx = []\n",
    "mode_lock_idx = []\n",
    "for i in tqdm(range(len(fused_dataset_train))):\n",
    "    thermal = thermal_arr[i]\n",
    "    if(utils.detect_NUKS(thermal) == True):\n",
    "        NUKS_idx.append(i)\n",
    "    elif((thermal_vid_arr[i,0,:,:] == thermal_vid_arr[i,0,0,0]).all() == True):\n",
    "        mode_lock_idx.append(i)\n",
    "    elif(utils.detect_movement(thermal) == True):\n",
    "        movement_idx.append(i)"
   ]
  },
  {
   "cell_type": "code",
   "execution_count": null,
   "metadata": {},
   "outputs": [],
   "source": [
    "save_path = r\"K:\\OSA_project\\Emir_Clean\\save_idx_arrsv2\"\n",
    "np.save(os.path.join(save_path, r\"NUKS_idx.npy\"), NUKS_idx)\n",
    "np.save(os.path.join(save_path, r\"movement_idx.npy\"), movement_idx)\n",
    "np.save(os.path.join(save_path, r\"mode_lock_idx.npy\"), mode_lock_idx)"
   ]
  },
  {
   "cell_type": "code",
   "execution_count": null,
   "metadata": {},
   "outputs": [],
   "source": [
    "full_arr = []\n",
    "prod_arr = []\n",
    "\n",
    "th_arr = #np.linspace(0.1, 0.4, 15)\n",
    "window_size_arr = np.linspace(20,40, 10, dtype=int)\n",
    "modes = ['90th', 'max', 'median', 'mean']\n",
    "percentile = 50\n",
    "t_arr = np.linspace(0, 1800/30, 1800)\n",
    "\n",
    "for th in tqdm(th_arr):\n",
    "    for window_max in tqdm(window_size_arr):\n",
    "        for window_min in window_size_arr:\n",
    "            for mode in modes:\n",
    "                gt_arr = []\n",
    "                pred_arr = []\n",
    "                \n",
    "\n",
    "                for idx in np.linspace(0,len(fused_dataset_train)-1,len(fused_dataset_train), dtype=int):\n",
    "                    if((idx not in NUKS_idx) and (idx not in mode_lock_idx) and (idx not in movement_idx) and (idx not in discard_idx)):\n",
    "                        pred = utils.predict(thermal_arr[idx], dmin=window_min, dmax=window_max, th=th, mode=mode, percentage=percentile, plot=False)\n",
    "\n",
    "                        gt = gt_apnea[idx]\n",
    "                        # gt_hp = gt_hypopnea[idx]\n",
    "\n",
    "                        if((np.mean(gt) > 0.1)):# or (np.mean(gt_hp) > 0.1)):\n",
    "                            gt_arr.append(1)\n",
    "                        else:\n",
    "                            gt_arr.append(0)\n",
    "                        \n",
    "                        if(np.mean(pred) > 0.1):\n",
    "                            pred_arr.append(1)\n",
    "                        else:\n",
    "                            pred_arr.append(0)\n",
    "                        \n",
    "                        # if(gt_arr[-1] != pred_arr[-1]):\n",
    "                        #     print(idx)\n",
    "                \n",
    "                        # AHI_arr.append(np.sum(pred_arr) / (1/60))\n",
    "                        # gt_AHI_arr.append(np.sum(gt_arr) / (1/60))\n",
    "\n",
    "                precision, recall, accuracy, confusion_matrix = utils.get_stats(np.array(pred_arr), np.array(gt_arr))\n",
    "                # print(\"Precision: \", precision, \"Recall: \", recall, \"Accuracy: \", accuracy, \"Confusion Matrix: \", confusion_matrix)\n",
    "                \n",
    "                prod_arr.append(precision*recall)\n",
    "                full_arr.append((th, mode, window_min, window_max, recall, precision, accuracy, confusion_matrix))"
   ]
  },
  {
   "cell_type": "code",
   "execution_count": 77,
   "metadata": {},
   "outputs": [
    {
     "name": "stdout",
     "output_type": "stream",
     "text": [
      "0.8269230769230769\n",
      "0\n"
     ]
    }
   ],
   "source": [
    "apnea_idx = []\n",
    "folds = []\n",
    "count = 0\n",
    "for i in range(len(dataset_OSA_train)):\n",
    "    # print(i)\n",
    "    try:\n",
    "        # folds.append(dataset_OSA_train.trial_folders[dataset_OSA_train.oversampling_idxs[i][0]])\n",
    "        batch = dataset_OSA_train.__getitem__(i)[:,0]\n",
    "        if(np.mean(batch) > 0.1):\n",
    "            apnea_idx.append(i)\n",
    "    except:\n",
    "        print(dataset_OSA_train.oversampling_idxs[i][0])\n",
    "        # print(dataset_OSA_train.trial_folders[dataset_OSA_train.oversampling_idxs[i][0]])\n",
    "        count = count + 1\n",
    "        pass\n",
    "\n",
    "print(100*len(apnea_idx)/len(dataset_OSA_train))\n",
    "print(count)"
   ]
  },
  {
   "cell_type": "code",
   "execution_count": 57,
   "metadata": {},
   "outputs": [
    {
     "data": {
      "text/plain": [
       "51"
      ]
     },
     "execution_count": 57,
     "metadata": {},
     "output_type": "execute_result"
    }
   ],
   "source": [
    "len(apnea_idx)"
   ]
  },
  {
   "cell_type": "code",
   "execution_count": 7,
   "metadata": {},
   "outputs": [
    {
     "name": "stdout",
     "output_type": "stream",
     "text": [
      "False\n",
      "False\n",
      "True\n"
     ]
    },
    {
     "data": {
      "text/plain": [
       "<matplotlib.legend.Legend at 0x2946a6ea4f0>"
      ]
     },
     "execution_count": 7,
     "metadata": {},
     "output_type": "execute_result"
    },
    {
     "data": {
      "text/plain": [
       "<Figure size 864x864 with 0 Axes>"
      ]
     },
     "metadata": {},
     "output_type": "display_data"
    },
    {
     "data": {
      "image/png": "[encoded data removed]",
      "text/plain": [
       "<Figure size 720x288 with 1 Axes>"
      ]
     },
     "metadata": {
      "needs_background": "light"
     },
     "output_type": "display_data"
    }
   ],
   "source": [
    "idx = 599\n",
    "thermal = utils.get_thermal(fused_dataset_train[idx], order=5)\n",
    "thermal = (thermal - np.mean(thermal))/np.std(thermal)\n",
    "t_arr = np.linspace(0, len(thermal)/30, len(thermal))\n",
    "lmin, lmax = utils.hl_envelopes_idx(thermal, dmin=30, dmax=20)\n",
    "max_th = np.interp(t_arr, t_arr[lmax], thermal[lmax])\n",
    "min_th = np.interp(t_arr, t_arr[lmin], thermal[lmin])\n",
    "pred = ((max_th - min_th)/max(max_th - min_th) < 0.2).astype(int)\n",
    "gt = fused_dataset_train[idx][\"gt_apnea\"][:,0]\n",
    "\n",
    "\n",
    "plt.figure(figsize=(12, 12))\n",
    "# pred[len(pred)-60:] = 0\n",
    "utils.plot_classification_waveforms(t_arr, thermal, gt, pred, fused_dataset_train[idx][\"gt_radar\"][:,0])\n",
    "fused_dataset_train[idx][\"hypopnea\"][:,0].shape, fused_dataset_train[idx][\"partial_apnea\"][:,0].shape\n",
    "\n",
    "print(utils.detect_NUKS(thermal))\n",
    "print(utils.detect_mode_lock(fused_dataset_train, idx))\n",
    "utils.plot_envelope(t_arr, thermal, lmin, lmax)\n",
    "plt.legend(loc='best')"
   ]
  },
  {
   "cell_type": "code",
   "execution_count": 8,
   "metadata": {},
   "outputs": [
    {
     "data": {
      "text/plain": [
       "<matplotlib.legend.Legend at 0x2946bb53040>"
      ]
     },
     "execution_count": 8,
     "metadata": {},
     "output_type": "execute_result"
    },
    {
     "data": {
      "image/png": "[encoded data removed]",
      "text/plain": [
       "<Figure size 720x288 with 1 Axes>"
      ]
     },
     "metadata": {
      "needs_background": "light"
     },
     "output_type": "display_data"
    }
   ],
   "source": [
    "idx = 71\n",
    "plt.figure(figsize=(10, 4))\n",
    "plt.plot(t_arr, fused_dataset_train[idx][\"gt_apnea\"][:,0], color='blue', linewidth=4, label='Ground Truth Apnea Signal')\n",
    "plt.plot(t_arr, fused_dataset_train[idx][\"hypopnea\"][:,0], label='Hypopnea')\n",
    "plt.plot(t_arr, fused_dataset_train[idx][\"partial_apnea\"][:,0], label='Partial Apnea')\n",
    "plt.legend()"
   ]
  },
  {
   "cell_type": "code",
   "execution_count": 10,
   "metadata": {},
   "outputs": [],
   "source": [
    "root = r\"E:\\OSA_project\\Emir_Clean\\pre_load_data\"\n",
    "gt_apnea = np.load(os.path.join(root, \"gt_apnea.npy\"))\n",
    "thermal_arr = np.load(os.path.join(root, \"thermal_arr.npy\"))\n",
    "thermal_vid_arr = np.load(os.path.join(root, \"thermal_vid_arr.npy\"))\n",
    "t_arr = np.linspace(0, 1800/30, 1800)"
   ]
  },
  {
   "cell_type": "code",
   "execution_count": 12,
   "metadata": {},
   "outputs": [],
   "source": [
    "root = r\"E:\\OSA_project\\Emir_Clean\\saved_idx_arrs\"\n",
    "NUKS_idx = np.load(os.path.join(root, \"NUKS_idx.npy\"))\n",
    "mode_lock_idx = np.load(os.path.join(root, \"mode_lock_idx.npy\"))\n",
    "combined_movement_idx = np.load(os.path.join(root, \"combined_movement_idx.npy\"))\n",
    "movement_idx = np.load(os.path.join(root, \"gt_movement_idx.npy\"))\n",
    "discard_idx = np.load(os.path.join(root, \"discard_idx.npy\"))"
   ]
  },
  {
   "cell_type": "code",
   "execution_count": 14,
   "metadata": {},
   "outputs": [
    {
     "name": "stderr",
     "output_type": "stream",
     "text": [
      "  0%|          | 0/15 [00:00<?, ?it/s]e:\\OSA_project\\Emir_Clean\\utils.py:15: RuntimeWarning: invalid value encountered in long_scalars\n",
      "  precision = tp / (tp + fp)\n",
      "100%|██████████| 10/10 [14:24<00:00, 86.41s/it]\n",
      "100%|██████████| 10/10 [14:21<00:00, 86.20s/it]t]\n",
      "100%|██████████| 10/10 [14:20<00:00, 86.02s/it]t]\n",
      "100%|██████████| 10/10 [14:20<00:00, 86.01s/it]t]\n",
      "100%|██████████| 10/10 [14:25<00:00, 86.51s/it]t]\n",
      "100%|██████████| 10/10 [14:24<00:00, 86.42s/it]/it]\n",
      "100%|██████████| 10/10 [14:27<00:00, 86.70s/it]/it]\n",
      "100%|██████████| 10/10 [14:18<00:00, 85.85s/it]/it]\n",
      "100%|██████████| 10/10 [14:22<00:00, 86.26s/it]/it]\n",
      "100%|██████████| 10/10 [14:25<00:00, 86.55s/it]/it]\n",
      "100%|██████████| 10/10 [14:25<00:00, 86.51s/it]s/it]\n",
      "100%|██████████| 10/10 [14:17<00:00, 85.80s/it]it]  \n",
      "100%|██████████| 10/10 [14:22<00:00, 86.25s/it]it]\n",
      "100%|██████████| 10/10 [14:22<00:00, 86.26s/it]it]\n",
      "100%|██████████| 10/10 [14:19<00:00, 85.98s/it]it]\n",
      "100%|██████████| 15/15 [3:35:37<00:00, 862.49s/it]\n"
     ]
    }
   ],
   "source": [
    "full_arr = []\n",
    "prod_arr = []\n",
    "\n",
    "th_arr = np.linspace(0.1, 0.4, 15)\n",
    "window_size_arr = np.linspace(20,40, 10, dtype=int)\n",
    "modes = ['90th', 'max', 'median', 'mean']\n",
    "percentile = 50\n",
    "t_arr = np.linspace(0, 1800/30, 1800)\n",
    "\n",
    "for th in tqdm(th_arr):\n",
    "    for window_max in tqdm(window_size_arr):\n",
    "        for window_min in window_size_arr:\n",
    "            for mode in modes:\n",
    "                gt_arr = []\n",
    "                pred_arr = []\n",
    "                \n",
    "\n",
    "                for idx in np.linspace(0,len(fused_dataset_train)-1,len(fused_dataset_train), dtype=int):\n",
    "                    if((idx not in NUKS_idx) and (idx not in mode_lock_idx) and (idx not in movement_idx) and (idx not in discard_idx)):\n",
    "                        pred = utils.predict(thermal_arr[idx], dmin=window_min, dmax=window_max, th=th, mode=mode, percentage=percentile, plot=False)\n",
    "\n",
    "                        gt = gt_apnea[idx]\n",
    "                        # gt_hp = gt_hypopnea[idx]\n",
    "\n",
    "                        if((np.mean(gt) > 0.1)):# or (np.mean(gt_hp) > 0.1)):\n",
    "                            gt_arr.append(1)\n",
    "                        else:\n",
    "                            gt_arr.append(0)\n",
    "                        \n",
    "                        if(np.mean(pred) > 0.1):\n",
    "                            pred_arr.append(1)\n",
    "                        else:\n",
    "                            pred_arr.append(0)\n",
    "                        \n",
    "                        # if(gt_arr[-1] != pred_arr[-1]):\n",
    "                        #     print(idx)\n",
    "                \n",
    "                        # AHI_arr.append(np.sum(pred_arr) / (1/60))\n",
    "                        # gt_AHI_arr.append(np.sum(gt_arr) / (1/60))\n",
    "\n",
    "                precision, recall, accuracy, confusion_matrix = utils.get_stats(np.array(pred_arr), np.array(gt_arr))\n",
    "                # print(\"Precision: \", precision, \"Recall: \", recall, \"Accuracy: \", accuracy, \"Confusion Matrix: \", confusion_matrix)\n",
    "                \n",
    "                prod_arr.append(precision*recall)\n",
    "                full_arr.append((th, mode, window_min, window_max, recall, precision, accuracy, confusion_matrix))"
   ]
  },
  {
   "cell_type": "code",
   "execution_count": 15,
   "metadata": {},
   "outputs": [],
   "source": [
    "# if array contains nan set that entry to zero\n",
    "for i in range(len(prod_arr)):\n",
    "    if(math.isnan(prod_arr[i])):\n",
    "        prod_arr[i] = 0"
   ]
  },
  {
   "cell_type": "code",
   "execution_count": 17,
   "metadata": {},
   "outputs": [],
   "source": [
    "best_idx = np.argsort(prod_arr)[::-1]\n",
    "best_idx = np.array(best_idx, dtype=int)"
   ]
  },
  {
   "cell_type": "code",
   "execution_count": 26,
   "metadata": {},
   "outputs": [
    {
     "data": {
      "text/plain": [
       "0.7259005145797598"
      ]
     },
     "execution_count": 26,
     "metadata": {},
     "output_type": "execute_result"
    }
   ],
   "source": [
    "prod_arr[best_idx[0]]"
   ]
  },
  {
   "cell_type": "code",
   "execution_count": 44,
   "metadata": {},
   "outputs": [],
   "source": [
    "np.save(r\"E:\\OSA_project\\Emir_Clean\\saved_files\\prod_arr.npy\", np.array(prod_arr))\n",
    "import pickle\n",
    "with open(r\"E:\\OSA_project\\Emir_Clean\\saved_files\\full_arr.pickle\", \"wb\") as fp:   #Pickling\n",
    "    pickle.dump(full_arr, fp)\n",
    "\n",
    "# with open(\"test\", \"rb\") as fp:   # Unpickling\n",
    "#     b = pickle.load(fp)"
   ]
  },
  {
   "cell_type": "code",
   "execution_count": 32,
   "metadata": {},
   "outputs": [
    {
     "name": "stdout",
     "output_type": "stream",
     "text": [
      "(0.37857142857142867, 'mean', 40, 37, 0.8363636363636363, 0.8679245283018868, 0.9728353140916808, array([[ 46,   9],\n",
      "       [  7, 527]]))\n"
     ]
    }
   ],
   "source": [
    "print(full_arr[best_idx[0]])"
   ]
  },
  {
   "cell_type": "code",
   "execution_count": 332,
   "metadata": {},
   "outputs": [],
   "source": [
    "# gt_apnea = np.zeros((len(fused_dataset_train), 1800))\n",
    "# thermal_arr = np.zeros((len(fused_dataset_train), 1800))\n",
    "# gt_hypopnea = np.zeros((len(fused_dataset_train), 1800))\n",
    "# thermal_vid_arr = np.zeros((len(fused_dataset_train), 1800, 64, 64))\n",
    "# radar_arr = np.zeros((len(fused_dataset_train), 1800, 3, 4, 2, 5))\n",
    "# gt_radar_arr = np.zeros((len(fused_dataset_train), 1800))\n",
    "# gt_ir_arr = np.zeros((len(fused_dataset_train), 1800))\n",
    "\n",
    "# for i in tqdm(range(len(fused_dataset_train))):\n",
    "#     radar_arr[i,:,:,:,:,:] = fused_dataset_train[i]['radar']\n",
    "#     gt_radar_arr[i,:] = fused_dataset_train[i]['gt_radar'][:,0]\n",
    "#     gt_ir_arr[i,:] = fused_dataset_train[i]['gt_ir'][:,0]\n",
    "#     thermal_vid_arr[i,:,:,:] = fused_dataset_train[i]['thermal'][0,:]\n",
    "#     gt_hypopnea[i,:] = fused_dataset_train[i][\"hypopnea\"][:,0]\n",
    "#     gt_apnea[i,:] = fused_dataset_train[i][\"gt_apnea\"][:,0]\n",
    "\n",
    "#     thermal = utils.get_thermal(fused_dataset_train[i])\n",
    "#     thermal = (thermal - np.mean(thermal))/np.std(thermal)\n",
    "#     thermal_arr[i,:] = thermal\n",
    "    \n",
    "# np.save(r\"E:\\OSA_project\\Emir_Clean\\gt_apnea.npy\", gt_apnea)\n",
    "# np.save(r\"E:\\OSA_project\\Emir_Clean\\thermal_arr.npy\", thermal_arr)\n",
    "# np.save(r\"E:\\OSA_project\\Emir_Clean\\thermal_vid_arr.npy\", thermal_vid_arr)\n",
    "# np.save(r\"E:\\OSA_project\\Emir_Clean\\gt_hypopnea.npy\", gt_hypopnea)\n",
    "# np.save(r\"E:\\OSA_project\\Emir_Clean\\radar_arr.npy\", radar_arr)\n",
    "# np.save(r\"E:\\OSA_project\\Emir_Clean\\gt_radar_arr.npy\", gt_radar_arr)\n",
    "# np.save(r\"E:\\OSA_project\\Emir_Clean\\gt_ir_arr.npy\", gt_ir_arr)"
   ]
  },
  {
   "cell_type": "code",
   "execution_count": 48,
   "metadata": {},
   "outputs": [],
   "source": [
    "good_data_idx = [602,617,642,653,655,656]\n",
    "not_detected_movement = [328,331,846,855,859]"
   ]
  },
  {
   "cell_type": "code",
   "execution_count": 90,
   "metadata": {},
   "outputs": [
    {
     "name": "stdout",
     "output_type": "stream",
     "text": [
      "0.7851307189542484\n",
      "0.9117647058823529 0.8611111111111112 0.9735099337748344 [[ 62   6]\n",
      " [ 10 526]]\n"
     ]
    }
   ],
   "source": [
    "percentile = 50\n",
    "t_arr = np.linspace(0, 1800/30, 1800)\n",
    "\n",
    "gt_arr = []\n",
    "pred_arr = []\n",
    "\n",
    "for idx in np.linspace(0,len(fused_dataset_train)-1,len(fused_dataset_train), dtype=int):\n",
    "    if((idx not in NUKS_idx) and (idx not in mode_lock_idx) and ((idx not in movement_old) or (idx in apnea_idx)) and ((idx not in wrong_idx) or (idx in include_idx)) and (idx not in jj)):\n",
    "        pred = utils.predict(thermal_arr[idx], dmin=29, dmax=31, th=0.33947368421052626, mode='mean', percentage=percentile, plot=False)\n",
    "\n",
    "        gt = gt_apnea[idx]\n",
    "        # gt_hp = gt_hypopnea[idx]\n",
    "\n",
    "        if((np.mean(gt) > 0.1)):# or (np.mean(gt_hp) > 0.1)):\n",
    "            gt_arr.append(1)\n",
    "        else:\n",
    "            gt_arr.append(0)\n",
    "        \n",
    "        if(np.mean(pred) > 0.1):\n",
    "            pred_arr.append(1)\n",
    "        else:\n",
    "            pred_arr.append(0)\n",
    "        \n",
    "        # if(gt_arr[-1] != pred_arr[-1]):\n",
    "        #     print(idx)\n",
    "\n",
    "        # AHI_arr.append(np.sum(pred_arr) / (1/60))\n",
    "        # gt_AHI_arr.append(np.sum(gt_arr) / (1/60))\n",
    "\n",
    "precision, recall, accuracy, confusion_matrix = utils.get_stats(np.array(pred_arr), np.array(gt_arr))\n",
    "# print(\"Precision: \", precision, \"Recall: \", recall, \"Accuracy: \", accuracy, \"Confusion Matrix: \", confusion_matrix)\n",
    "\n",
    "print(precision*recall)\n",
    "print(recall, precision, accuracy, confusion_matrix)"
   ]
  },
  {
   "cell_type": "code",
   "execution_count": 74,
   "metadata": {},
   "outputs": [
    {
     "name": "stderr",
     "output_type": "stream",
     "text": [
      "100%|██████████| 15/15 [3:30:18<00:00, 841.21s/it]  \n"
     ]
    }
   ],
   "source": [
    "full_arr = []\n",
    "\n",
    "AHI_arr = []\n",
    "gt_AHI_arr = []\n",
    "\n",
    "prod_arr = []\n",
    "\n",
    "th_arr = np.linspace(0.2, 0.4, 15)\n",
    "window_size_arr = np.linspace(20,40, 20, dtype=int)\n",
    "modes = ['mean'] # ['90th', 'max', 'median', 'mean']\n",
    "percentile = 50\n",
    "t_arr = np.linspace(0, 1800/30, 1800)\n",
    "\n",
    "for th in tqdm(th_arr):\n",
    "    for mode in modes:\n",
    "        for window_max in window_size_arr:\n",
    "            for window_min in window_size_arr:\n",
    "                gt_arr = []\n",
    "                pred_arr = []\n",
    "                \n",
    "\n",
    "                for idx in np.linspace(0,len(fused_dataset_train)-1,len(fused_dataset_train), dtype=int):\n",
    "                    if(((idx not in NUKS_idx) and (idx not in mode_lock_idx) and (idx not in movement_idx) and (idx not in not_detected_movement)) or (idx in good_data_idx)):\n",
    "                        pred = utils.predict(thermal_arr[idx], dmin=window_min, dmax=window_max, th=th, mode=mode, percentage=percentile, plot=False)\n",
    "\n",
    "                        gt = gt_apnea[idx]\n",
    "                        # gt_hp = gt_hypopnea[idx]\n",
    "\n",
    "                        if((np.mean(gt) > 0.1)):# or (np.mean(gt_hp) > 0.1)):\n",
    "                            gt_arr.append(1)\n",
    "                        else:\n",
    "                            gt_arr.append(0)\n",
    "                        \n",
    "                        if(np.mean(pred) > 0.1):\n",
    "                            pred_arr.append(1)\n",
    "                        else:\n",
    "                            pred_arr.append(0)\n",
    "                        \n",
    "                        # if(gt_arr[-1] != pred_arr[-1]):\n",
    "                        #     print(idx)\n",
    "                \n",
    "                        # AHI_arr.append(np.sum(pred_arr) / (1/60))\n",
    "                        # gt_AHI_arr.append(np.sum(gt_arr) / (1/60))\n",
    "\n",
    "                precision, recall, accuracy, confusion_matrix = utils.get_stats(np.array(pred_arr), np.array(gt_arr))\n",
    "                # print(\"Precision: \", precision, \"Recall: \", recall, \"Accuracy: \", accuracy, \"Confusion Matrix: \", confusion_matrix)\n",
    "                \n",
    "                prod_arr.append(precision*recall)\n",
    "                full_arr.append((th, mode, window_min, window_max, recall, precision, accuracy, confusion_matrix))"
   ]
  },
  {
   "cell_type": "code",
   "execution_count": 77,
   "metadata": {},
   "outputs": [],
   "source": [
    "prod = np.array(prod_arr)\n",
    "\n",
    "# if array contains nan set that entry to zero\n",
    "for i in range(len(prod)):\n",
    "    if(math.isnan(prod[i])):\n",
    "        prod[i] = 0\n",
    "\n",
    "best_idx = np.argsort(prod)[::-1]\n",
    "best_idx = np.array(best_idx, dtype=int)"
   ]
  },
  {
   "cell_type": "code",
   "execution_count": 81,
   "metadata": {},
   "outputs": [
    {
     "name": "stdout",
     "output_type": "stream",
     "text": [
      "0.7250980392156863\n",
      "(0.37142857142857144, 'mean', 38, 36, 0.8431372549019608, 0.86, 0.9738219895287958, array([[ 43,   8],\n",
      "       [  7, 515]]))\n"
     ]
    }
   ],
   "source": [
    "print(prod[best_idx[0]])\n",
    "print(full_arr[best_idx[0]])"
   ]
  },
  {
   "cell_type": "code",
   "execution_count": 89,
   "metadata": {},
   "outputs": [],
   "source": [
    "jj = [\n",
    "    62,\n",
    "    71,\n",
    "    74,\n",
    "    78,\n",
    "    79,\n",
    "    207,\n",
    "    211,\n",
    "    214,\n",
    "    223,\n",
    "    229,\n",
    "    231,\n",
    "    287,\n",
    "    296,\n",
    "    300,\n",
    "    324,\n",
    "    328,\n",
    "    331,\n",
    "    338,\n",
    "    60,\n",
    "    64,\n",
    "    69,\n",
    "    74,\n",
    "    75,\n",
    "    200,\n",
    "    201,\n",
    "    203,\n",
    "    206,\n",
    "    225,\n",
    "    234,\n",
    "    239]\n",
    "\n",
    "wrong_idx = [\n",
    "            62,\n",
    "            71,\n",
    "            78,\n",
    "            79,\n",
    "            207,\n",
    "            211,\n",
    "            214,\n",
    "            223,\n",
    "            229,\n",
    "            231,\n",
    "            241,\n",
    "            242,\n",
    "            244,\n",
    "            250,\n",
    "            251,\n",
    "            253,\n",
    "            255,\n",
    "            460,\n",
    "            465,\n",
    "            478,\n",
    "            483,\n",
    "            590,\n",
    "            591,\n",
    "            596,\n",
    "            598,\n",
    "            612,\n",
    "            654,\n",
    "            684,\n",
    "            773,\n",
    "            841,\n",
    "            842,\n",
    "            843,\n",
    "            846,\n",
    "            855,\n",
    "            856,\n",
    "            857,\n",
    "            858,\n",
    "            859,\n",
    "            988]\n",
    "\n",
    "include_idx = [241,\n",
    "                242,\n",
    "                244,\n",
    "                250,\n",
    "                251,\n",
    "                253,\n",
    "                255,\n",
    "                460,\n",
    "                465,\n",
    "                478,\n",
    "                590,\n",
    "                596,\n",
    "                612,\n",
    "                654,\n",
    "                684,\n",
    "                773]"
   ]
  },
  {
   "cell_type": "code",
   "execution_count": null,
   "metadata": {},
   "outputs": [],
   "source": [
    "for idx in apnea_idx:\n",
    "    plt.figure(figsize=(12, 12))\n",
    "    pred = utils.predict(thermal_arr[idx], dmin=20, dmax=30, th=0.2, mode='90th', plot=True)\n",
    "    plt.plot(t_arr, fused_dataset_train[idx][\"gt_apnea\"][:,0], color='blue', linewidth=4, label='Ground Truth Apnea Signal')\n",
    "    plt.plot(t_arr, fused_dataset_train[idx][\"hypopnea\"][:,0], label='Hypopnea')\n",
    "    plt.plot(t_arr, fused_dataset_train[idx][\"partial_apnea\"][:,0], label='Partial Apnea')\n",
    "    \n",
    "    plt.legend()\n",
    "    plt.show()"
   ]
  },
  {
   "cell_type": "code",
   "execution_count": 13,
   "metadata": {},
   "outputs": [],
   "source": []
  },
  {
   "cell_type": "code",
   "execution_count": null,
   "metadata": {},
   "outputs": [],
   "source": [
    "movement_new_idx = []\n",
    "for idx in tqdm(range(len(fused_dataset_train))):\n",
    "    thermal = thermal_arr[idx]\n",
    "\n",
    "    lmin, lmax = utils.hl_envelopes_idx(thermal, dmin=29, dmax=31)\n",
    "\n",
    "    # lx = np.linspace(0, len(thermal)/30, len(thermal))[lmin]\n",
    "    # mx = np.linspace(0, len(thermal)/30, len(thermal))[lmax]\n",
    "    min_env = thermal[lmin]\n",
    "    max_env = thermal[lmax]\n",
    "    # dists_min, dists_max = utils.get_motion_scores(min_env, max_env, half_len=2)\n",
    "    half_len = 4 \n",
    "\n",
    "    dists_min = []\n",
    "    dists_max = []\n",
    "    # start_vec = [(max_env[0]-max_env[1+i])**2 for i in range(half_len)]\n",
    "    # start_vec = np.array(start_vec)\n",
    "    # dists_max = [np.sum(start_vec)/((1 or np.median(start_vec[np.argsort(start_vec)[::-1]]))*len(start_vec))]\n",
    "\n",
    "    for i in range(1, len(max_env)-1):\n",
    "        vec_start = max(0, i - half_len)\n",
    "        vec_end = min(len(max_env), i + half_len)\n",
    "        vec = max_env[vec_start:vec_end]\n",
    "        vec = np.array(vec)\n",
    "        center_vec = np.repeat(max_env[i], len(vec))\n",
    "        dist = np.sum((center_vec - vec)**2)/((1 or np.median(vec[np.argsort(vec)[::-1]]))*len(vec))\n",
    "        dists_max.append(dist)\n",
    "\n",
    "    # end_vec = [(max_env[len(max_env)-1]-max_env[len(max_env)-2-i])**2  for i in range(half_len)]\n",
    "    # end_vec = np.array(end_vec)\n",
    "    # dists_max.append(np.sum(end_vec)/((1 or np.median(end_vec[np.argsort(end_vec)[::-1]]))*len(end_vec)))\n",
    "\n",
    "\n",
    "    # start_vec = [(min_env[0]-min_env[1+i])**2 for i in range(half_len)]\n",
    "    # start_vec= np.array(start_vec)\n",
    "    # dists_min = [np.sum(start_vec)/((1 or np.median(start_vec[np.argsort(start_vec)[::-1]]))*len(start_vec))]\n",
    "\n",
    "    for i in range(1, len(min_env)-1):\n",
    "        vec_start = max(0, i - half_len)\n",
    "        vec_end = min(len(min_env), i + half_len)\n",
    "        vec = min_env[vec_start:vec_end]\n",
    "        vec = np.array(vec)\n",
    "        center_vec = np.repeat(min_env[i], len(vec))\n",
    "        dist = np.sum((center_vec - vec)**2)/((1 or np.median(vec[np.argsort(vec)[::-1]]))*len(vec))\n",
    "        dists_min.append(dist)\n",
    "\n",
    "    # end_vec = [(min_env[len(min_env)-1]-min_env[len(min_env)-2-i])**2  for i in range(half_len)]\n",
    "    # end_vec = np.array(end_vec)\n",
    "    # dists_min.append(np.sum(end_vec)/((1 or np.median(end_vec[np.argsort(end_vec)[::-1]]))*len(end_vec)))\n",
    "    \n",
    "    # plt.plot(t_arr, thermal)\n",
    "    # plt.plot(t_arr[lmin], min_env)\n",
    "    # plt.plot(t_arr[lmax], max_env)\n",
    "    # plt.show()\n",
    "\n",
    "    dists_min = np.array(dists_min)\n",
    "    dists_max = np.array(dists_max)\n",
    "\n",
    "    # plt.plot(t_arr[lmin][1:-1], dists_min)\n",
    "    # plt.show()\n",
    "\n",
    "    # plt.plot(t_arr[lmax][1:-1], dists_max)\n",
    "    # break\n",
    "\n",
    "    ld, ud = max(dists_min), max(dists_max)\n",
    "    if((ld > 4.5) or (ud > 4.5)):\n",
    "        movement_new_idx.append(idx)"
   ]
  },
  {
   "cell_type": "code",
   "execution_count": null,
   "metadata": {},
   "outputs": [],
   "source": [
    "len(movement_new_idx)"
   ]
  },
  {
   "cell_type": "code",
   "execution_count": null,
   "metadata": {},
   "outputs": [],
   "source": [
    "len(movement_idx)"
   ]
  },
  {
   "cell_type": "code",
   "execution_count": null,
   "metadata": {},
   "outputs": [],
   "source": []
  },
  {
   "cell_type": "code",
   "execution_count": null,
   "metadata": {},
   "outputs": [],
   "source": [
    "for idx in range(len(thermal_arr)):\n",
    "    if((idx not in NUKS_idx) and (idx not in mode_lock_idx) and ((idx not in movement_idx) or (idx in apnea_idx)) and ((idx not in wrong_idx) or (idx not in include_idx))): \n",
    "        thermal = thermal_arr[idx]\n",
    "        print(idx)\n",
    "        plt.plot(t_arr, thermal)\n",
    "        plt.show()"
   ]
  },
  {
   "cell_type": "code",
   "execution_count": null,
   "metadata": {},
   "outputs": [],
   "source": [
    "# Th: 0.35555556, Mode: mean, Window Size: 26 --> best result so far"
   ]
  },
  {
   "cell_type": "code",
   "execution_count": 15,
   "metadata": {},
   "outputs": [
    {
     "name": "stderr",
     "output_type": "stream",
     "text": [
      "100%|██████████| 40/40 [22:58:23<00:00, 2067.59s/it]   \n"
     ]
    }
   ],
   "source": [
    "full_arr = []\n",
    "recall_arr = []\n",
    "accuracy_arr = []\n",
    "precision_arr = []\n",
    "confusion_arr = []\n",
    "\n",
    "AHI_arr = []\n",
    "gt_AHI_arr = []\n",
    "\n",
    "prod_arr = []\n",
    "param_arr = []\n",
    "\n",
    "\n",
    "th_arr = np.linspace(0.1, 0.9, 40)\n",
    "window_size_arr = np.linspace(20,50, 30, dtype=int)\n",
    "modes = ['mean'] # ['90th', 'max', 'median', 'mean']\n",
    "percentile = 50\n",
    "t_arr = np.linspace(0, 1800/30, 1800)\n",
    "\n",
    "for th in tqdm(th_arr):\n",
    "    for mode in modes:\n",
    "        for window_max in window_size_arr:\n",
    "            for window_min in window_size_arr:\n",
    "                gt_arr = []\n",
    "                pred_arr = []\n",
    "                \n",
    "\n",
    "                for idx in np.linspace(0,len(fused_dataset_train)-1,len(fused_dataset_train), dtype=int):\n",
    "                    if((idx not in NUKS_idx) and (idx not in mode_lock_idx) and ((idx not in movement_idx) or (idx in apnea_idx)) and ((idx not in wrong_idx) or (idx in include_idx)) and (idx not in jj)):\n",
    "                        pred = utils.predict(thermal_arr[idx], dmin=window_min, dmax=window_max, th=th, mode=mode, percentage=percentile, plot=False)\n",
    "\n",
    "                        gt = gt_apnea[idx]\n",
    "                        # gt_hp = gt_hypopnea[idx]\n",
    "\n",
    "                        if((np.mean(gt) > 0.1)):# or (np.mean(gt_hp) > 0.1)):\n",
    "                            gt_arr.append(1)\n",
    "                        else:\n",
    "                            gt_arr.append(0)\n",
    "                        \n",
    "                        if(np.mean(pred) > 0.1):\n",
    "                            pred_arr.append(1)\n",
    "                        else:\n",
    "                            pred_arr.append(0)\n",
    "                        \n",
    "                        # if(gt_arr[-1] != pred_arr[-1]):\n",
    "                        #     print(idx)\n",
    "                \n",
    "                        AHI_arr.append(np.sum(pred_arr) / (1/60))\n",
    "                        gt_AHI_arr.append(np.sum(gt_arr) / (1/60))\n",
    "\n",
    "                precision, recall, accuracy, confusion_matrix = utils.get_stats(np.array(pred_arr), np.array(gt_arr))\n",
    "                # recall_arr.append(recall)\n",
    "                # accuracy_arr.append(accuracy)\n",
    "                # precision_arr.append(precision)\n",
    "                # confusion_arr.append(confusion_matrix)\n",
    "                \n",
    "                prod_arr.append(precision*recall)\n",
    "                full_arr.append((th, mode, window_min, window_max, recall, precision, accuracy, confusion_matrix))\n",
    "\n",
    "                # print(f\"Th: {th}, Mode: {mode}, Window Size: {window_size}\")\n",
    "                # print(f\"Recall: {recall}, Precision: {precision}, Accuracy: {accuracy}\")\n",
    "                # print(confusion_matrix)\n"
   ]
  },
  {
   "cell_type": "code",
   "execution_count": 16,
   "metadata": {},
   "outputs": [
    {
     "name": "stderr",
     "output_type": "stream",
     "text": [
      "C:\\Users\\111\\AppData\\Roaming\\Python\\Python38\\site-packages\\numpy\\lib\\npyio.py:518: VisibleDeprecationWarning: Creating an ndarray from ragged nested sequences (which is a list-or-tuple of lists-or-tuples-or ndarrays with different lengths or shapes) is deprecated. If you meant to do this, you must specify 'dtype=object' when creating the ndarray.\n",
      "  arr = np.asanyarray(arr)\n"
     ]
    }
   ],
   "source": [
    "np.save(r\"E:\\OSA_project\\Emir_Clean\\full_arr.npy\", full_arr)\n",
    "# np.save(r\"E:\\OSA_project\\Emir_Clean\\recall_arr.npy\", recall_arr)\n",
    "# np.save(r\"E:\\OSA_project\\Emir_Clean\\accuracy_arr.npy\", accuracy_arr)\n",
    "# np.save(r\"E:\\OSA_project\\Emir_Clean\\precision_arr.npy\", precision_arr)\n",
    "# np.save(r\"E:\\OSA_project\\Emir_Clean\\confusion_arr.npy\", confusion_arr)\n",
    "# np.save(r\"E:\\OSA_project\\Emir_Clean\\AHI_arr.npy\", AHI_arr)\n",
    "\n",
    "# np.save(r\"E:\\OSA_project\\Emir_Clean\\gt_AHI_arr.npy\", gt_AHI_arr)\n",
    "np.save(r\"E:\\OSA_project\\Emir_Clean\\prod_arr.npy\", prod_arr)"
   ]
  },
  {
   "cell_type": "code",
   "execution_count": 22,
   "metadata": {},
   "outputs": [],
   "source": [
    "import pickle\n",
    "with open(r\"E:\\OSA_project\\Emir_Clean\\full_arr.pickle\", \"wb\") as fp:   #Pickling\n",
    "    pickle.dump(full_arr, fp)\n",
    "\n",
    "# with open(\"test\", \"rb\") as fp:   # Unpickling\n",
    "#     b = pickle.load(fp)"
   ]
  },
  {
   "cell_type": "code",
   "execution_count": null,
   "metadata": {},
   "outputs": [],
   "source": [
    "for i in range(len(wrong_idx)):\n",
    "    print(wrong_idx[i])\n",
    "    plt.plot(t_arr, thermal_arr[wrong_idx[i]])\n",
    "    plt.show()"
   ]
  },
  {
   "cell_type": "code",
   "execution_count": null,
   "metadata": {},
   "outputs": [],
   "source": [
    "np.save(r\"E:\\OSA_project\\Emir_Clean\\gt_apnea.npy\", gt_apnea)\n",
    "np.save(r\"E:\\OSA_project\\Emir_Clean\\thermal_arr.npy\", thermal_arr)"
   ]
  },
  {
   "cell_type": "code",
   "execution_count": 315,
   "metadata": {},
   "outputs": [],
   "source": [
    "prod = np.array(precision_arr)*np.array(recall_arr)\n",
    "\n",
    "# if array contains nan set that entry to zero\n",
    "for i in range(len(prod)):\n",
    "    if(math.isnan(prod[i])):\n",
    "        prod[i] = 0"
   ]
  },
  {
   "cell_type": "code",
   "execution_count": 17,
   "metadata": {},
   "outputs": [],
   "source": [
    "best_idx = np.argsort(prod_arr)[::-1]"
   ]
  },
  {
   "cell_type": "code",
   "execution_count": 29,
   "metadata": {},
   "outputs": [],
   "source": [
    "best_idx = np.array(best_idx, dtype=int)"
   ]
  },
  {
   "cell_type": "code",
   "execution_count": 31,
   "metadata": {},
   "outputs": [
    {
     "name": "stdout",
     "output_type": "stream",
     "text": [
      "0.7851307189542484\n"
     ]
    }
   ],
   "source": [
    "print(prod_arr[best_idx[0]])\n",
    "# print(full_arr[best_idx[0]])"
   ]
  },
  {
   "cell_type": "code",
   "execution_count": 54,
   "metadata": {},
   "outputs": [
    {
     "data": {
      "text/plain": [
       "(0.3666666666666667,\n",
       " 'mean',\n",
       " 28,\n",
       " 37,\n",
       " 0.9117647058823529,\n",
       " 0.8611111111111112,\n",
       " 0.9735099337748344,\n",
       " array([[ 62,   6],\n",
       "        [ 10, 526]]))"
      ]
     },
     "execution_count": 54,
     "metadata": {},
     "output_type": "execute_result"
    }
   ],
   "source": [
    "full_arr[best_idx[10]]"
   ]
  },
  {
   "cell_type": "code",
   "execution_count": 34,
   "metadata": {},
   "outputs": [
    {
     "ename": "TypeError",
     "evalue": "only integer scalar arrays can be converted to a scalar index",
     "output_type": "error",
     "traceback": [
      "\u001b[1;31m---------------------------------------------------------------------------\u001b[0m",
      "\u001b[1;31mTypeError\u001b[0m                                 Traceback (most recent call last)",
      "\u001b[1;32m~\\AppData\\Local\\Temp/ipykernel_20928/1569363799.py\u001b[0m in \u001b[0;36m<module>\u001b[1;34m\u001b[0m\n\u001b[1;32m----> 1\u001b[1;33m \u001b[0mprint\u001b[0m\u001b[1;33m(\u001b[0m\u001b[0mprod_arr\u001b[0m\u001b[1;33m[\u001b[0m\u001b[0mbest_idx\u001b[0m\u001b[1;33m[\u001b[0m\u001b[1;36m0\u001b[0m\u001b[1;33m:\u001b[0m\u001b[1;36m10\u001b[0m\u001b[1;33m]\u001b[0m\u001b[1;33m]\u001b[0m\u001b[1;33m)\u001b[0m\u001b[1;33m\u001b[0m\u001b[1;33m\u001b[0m\u001b[0m\n\u001b[0m",
      "\u001b[1;31mTypeError\u001b[0m: only integer scalar arrays can be converted to a scalar index"
     ]
    }
   ],
   "source": [
    "print(prod_arr[best_idx[0:10]])"
   ]
  },
  {
   "cell_type": "code",
   "execution_count": 330,
   "metadata": {},
   "outputs": [
    {
     "data": {
      "text/plain": [
       "(0.7272727272727273,\n",
       " 0.7698744769874477,\n",
       " 0.7947019867549668,\n",
       " array([[184,  55],\n",
       "        [ 69, 296]]))"
      ]
     },
     "execution_count": 330,
     "metadata": {},
     "output_type": "execute_result"
    }
   ],
   "source": [
    "precision_arr[16], recall_arr[16], accuracy_arr[16], confusion_arr[16]"
   ]
  },
  {
   "cell_type": "code",
   "execution_count": 32,
   "metadata": {},
   "outputs": [
    {
     "ename": "IndexError",
     "evalue": "list index out of range",
     "output_type": "error",
     "traceback": [
      "\u001b[1;31m---------------------------------------------------------------------------\u001b[0m",
      "\u001b[1;31mIndexError\u001b[0m                                Traceback (most recent call last)",
      "\u001b[1;32m~\\AppData\\Local\\Temp/ipykernel_20928/336319701.py\u001b[0m in \u001b[0;36m<module>\u001b[1;34m\u001b[0m\n\u001b[1;32m----> 1\u001b[1;33m \u001b[0mprecision_arr\u001b[0m\u001b[1;33m[\u001b[0m\u001b[0mbest_idx\u001b[0m\u001b[1;33m[\u001b[0m\u001b[1;36m0\u001b[0m\u001b[1;33m]\u001b[0m\u001b[1;33m]\u001b[0m\u001b[1;33m,\u001b[0m \u001b[0mrecall_arr\u001b[0m\u001b[1;33m[\u001b[0m\u001b[0mbest_idx\u001b[0m\u001b[1;33m[\u001b[0m\u001b[1;36m0\u001b[0m\u001b[1;33m]\u001b[0m\u001b[1;33m]\u001b[0m\u001b[1;33m,\u001b[0m \u001b[0maccuracy_arr\u001b[0m\u001b[1;33m[\u001b[0m\u001b[0mbest_idx\u001b[0m\u001b[1;33m[\u001b[0m\u001b[1;36m0\u001b[0m\u001b[1;33m]\u001b[0m\u001b[1;33m]\u001b[0m\u001b[1;33m,\u001b[0m \u001b[0mconfusion_arr\u001b[0m\u001b[1;33m[\u001b[0m\u001b[0mbest_idx\u001b[0m\u001b[1;33m[\u001b[0m\u001b[1;36m0\u001b[0m\u001b[1;33m]\u001b[0m\u001b[1;33m]\u001b[0m\u001b[1;33m\u001b[0m\u001b[1;33m\u001b[0m\u001b[0m\n\u001b[0m",
      "\u001b[1;31mIndexError\u001b[0m: list index out of range"
     ]
    }
   ],
   "source": [
    "precision_arr[best_idx[0]], recall_arr[best_idx[0]], accuracy_arr[best_idx[0]], confusion_arr[best_idx[0]]"
   ]
  },
  {
   "cell_type": "code",
   "execution_count": 328,
   "metadata": {},
   "outputs": [
    {
     "data": {
      "text/plain": [
       "16"
      ]
     },
     "execution_count": 328,
     "metadata": {},
     "output_type": "execute_result"
    }
   ],
   "source": [
    "np.argmin((np.array(AHI_arr) - np.array(gt_AHI_arr))**2)"
   ]
  },
  {
   "cell_type": "code",
   "execution_count": 329,
   "metadata": {},
   "outputs": [
    {
     "data": {
      "text/plain": [
       "(25.132450331125828, 23.741721854304636)"
      ]
     },
     "execution_count": 329,
     "metadata": {},
     "output_type": "execute_result"
    }
   ],
   "source": [
    "AHI_arr[16], gt_AHI_arr[0]"
   ]
  },
  {
   "cell_type": "code",
   "execution_count": null,
   "metadata": {},
   "outputs": [],
   "source": [
    "th_arr[10], modes[3], window_size_arr[7], window_size_arr[6]\n",
    "# (0.33947368421052626, 'mean', dmax 31, dmin 29)"
   ]
  },
  {
   "cell_type": "code",
   "execution_count": null,
   "metadata": {},
   "outputs": [],
   "source": [
    "((best_idx[0] % (20*20*4)) % (20*20)) % 20\n"
   ]
  },
  {
   "cell_type": "code",
   "execution_count": null,
   "metadata": {},
   "outputs": [],
   "source": [
    "np.save(r\"E:\\OSA_project\\Emir_Clean\\th_arr.npy\", th_arr)\n",
    "np.save(r\"E:\\OSA_project\\Emir_Clean\\window_size_arr.npy\", window_size_arr)\n",
    "np.save(r\"E:\\OSA_project\\Emir_Clean\\modes.npy\", modes)\n",
    "np.save(r\"E:\\OSA_project\\Emir_Clean\\recall_arr.npy\", recall_arr)\n",
    "np.save(r\"E:\\OSA_project\\Emir_Clean\\accuracy_arr.npy\", accuracy_arr)\n",
    "np.save(r\"E:\\OSA_project\\Emir_Clean\\precision_arr.npy\", precision_arr)\n",
    "np.save(r\"E:\\OSA_project\\Emir_Clean\\confusion_arr.npy\", confusion_arr)"
   ]
  },
  {
   "cell_type": "code",
   "execution_count": null,
   "metadata": {},
   "outputs": [],
   "source": [
    "plt.plot(precision_arr)\n",
    "plt.show()\n",
    "plt.plot(recall_arr)\n",
    "plt.show()"
   ]
  },
  {
   "cell_type": "code",
   "execution_count": null,
   "metadata": {},
   "outputs": [],
   "source": [
    "# 1.1) do a grid search to optimize params 3) threshold, 2) window size 1) normalization method for envelope difference\n",
    "# 1.2) save which samples were misclassified, record their index\n",
    "\n",
    "# 2.0) come up with hypopnea model\n",
    "# 2.1) implement AHI and other relevant metrics\n",
    "# 2.2) explain model shortcomings"
   ]
  }
 ],
 "metadata": {
  "kernelspec": {
   "display_name": "mm_p",
   "language": "python",
   "name": "python3"
  },
  "language_info": {
   "codemirror_mode": {
    "name": "ipython",
    "version": 3
   },
   "file_extension": ".py",
   "mimetype": "text/x-python",
   "name": "python",
   "nbconvert_exporter": "python",
   "pygments_lexer": "ipython3",
   "version": "3.8.12"
  }
 },
 "nbformat": 4,
 "nbformat_minor": 2
}
